{
 "cells": [
  {
   "cell_type": "code",
   "execution_count": 1,
   "metadata": {},
   "outputs": [],
   "source": [
    "import pandas as pd\n",
    "import os\n",
    "import matplotlib.pyplot as plt\n",
    "import matplotlib as mpl\n",
    "import matplotlib.colors\n",
    "import numpy as np\n",
    "import glob\n",
    "mpl.style.use('seaborn-talk')\n"
   ]
  },
  {
   "cell_type": "code",
   "execution_count": null,
   "metadata": {},
   "outputs": [],
   "source": []
  },
  {
   "cell_type": "code",
   "execution_count": 2,
   "metadata": {},
   "outputs": [],
   "source": [
    "# base_dir = '.'\n",
    "# base_dir = './May-5-Take2'\n",
    "# base_dir = './May12SynradExport'\n",
    "# base_dir = './May12SynradExport-Take2'\n",
    "\n",
    "\n",
    "# base_dir = './Corrected-Beam-Parameter/tails only all magnets'\n",
    "# base_dir = './Corrected-Beam-Parameter/Full beam and magnets'\n",
    "\n",
    "\n",
    "# base_dir = 'Scraper at z 350 cm'\n",
    "\n",
    "\n",
    "base_dir = 'May2020Lattice/CharlieGeometry'\n",
    "# base_dir = 'May2020Lattice/UpdatedGeometryPumps'\n",
    "\n"
   ]
  },
  {
   "cell_type": "code",
   "execution_count": 3,
   "metadata": {},
   "outputs": [
    {
     "data": {
      "text/html": [
       "<div>\n",
       "<style scoped>\n",
       "    .dataframe tbody tr th:only-of-type {\n",
       "        vertical-align: middle;\n",
       "    }\n",
       "\n",
       "    .dataframe tbody tr th {\n",
       "        vertical-align: top;\n",
       "    }\n",
       "\n",
       "    .dataframe thead th {\n",
       "        text-align: right;\n",
       "    }\n",
       "</style>\n",
       "<table border=\"1\" class=\"dataframe\">\n",
       "  <thead>\n",
       "    <tr style=\"text-align: right;\">\n",
       "      <th></th>\n",
       "      <th>Hits</th>\n",
       "      <th>Flux (on facet)</th>\n",
       "      <th>Power (on facet)</th>\n",
       "      <th>Absorbed (on facet)</th>\n",
       "    </tr>\n",
       "    <tr>\n",
       "      <th>Facet</th>\n",
       "      <th></th>\n",
       "      <th></th>\n",
       "      <th></th>\n",
       "      <th></th>\n",
       "    </tr>\n",
       "  </thead>\n",
       "  <tbody>\n",
       "    <tr>\n",
       "      <th>1</th>\n",
       "      <td>3158</td>\n",
       "      <td>395000000000</td>\n",
       "      <td>1.260000e-06</td>\n",
       "      <td>563</td>\n",
       "    </tr>\n",
       "    <tr>\n",
       "      <th>2</th>\n",
       "      <td>1585</td>\n",
       "      <td>226000000000</td>\n",
       "      <td>7.070000e-07</td>\n",
       "      <td>306</td>\n",
       "    </tr>\n",
       "    <tr>\n",
       "      <th>3</th>\n",
       "      <td>553</td>\n",
       "      <td>82700000000</td>\n",
       "      <td>2.570000e-07</td>\n",
       "      <td>122</td>\n",
       "    </tr>\n",
       "    <tr>\n",
       "      <th>4</th>\n",
       "      <td>27</td>\n",
       "      <td>4790000000</td>\n",
       "      <td>2.130000e-08</td>\n",
       "      <td>9</td>\n",
       "    </tr>\n",
       "    <tr>\n",
       "      <th>5</th>\n",
       "      <td>21</td>\n",
       "      <td>2900000000</td>\n",
       "      <td>7.650000e-09</td>\n",
       "      <td>4</td>\n",
       "    </tr>\n",
       "    <tr>\n",
       "      <th>...</th>\n",
       "      <td>...</td>\n",
       "      <td>...</td>\n",
       "      <td>...</td>\n",
       "      <td>...</td>\n",
       "    </tr>\n",
       "    <tr>\n",
       "      <th>18983</th>\n",
       "      <td>5646064</td>\n",
       "      <td>4100000000000000</td>\n",
       "      <td>1.450000e-01</td>\n",
       "      <td>0</td>\n",
       "    </tr>\n",
       "    <tr>\n",
       "      <th>18984</th>\n",
       "      <td>4478467</td>\n",
       "      <td>3140000000000000</td>\n",
       "      <td>1.100000e-01</td>\n",
       "      <td>0</td>\n",
       "    </tr>\n",
       "    <tr>\n",
       "      <th>18985</th>\n",
       "      <td>4473338</td>\n",
       "      <td>3130000000000000</td>\n",
       "      <td>1.090000e-01</td>\n",
       "      <td>0</td>\n",
       "    </tr>\n",
       "    <tr>\n",
       "      <th>18986</th>\n",
       "      <td>5647019</td>\n",
       "      <td>4100000000000000</td>\n",
       "      <td>1.460000e-01</td>\n",
       "      <td>0</td>\n",
       "    </tr>\n",
       "    <tr>\n",
       "      <th>18987</th>\n",
       "      <td>2947574</td>\n",
       "      <td>2130000000000000</td>\n",
       "      <td>6.670000e-02</td>\n",
       "      <td>0</td>\n",
       "    </tr>\n",
       "  </tbody>\n",
       "</table>\n",
       "<p>18987 rows × 4 columns</p>\n",
       "</div>"
      ],
      "text/plain": [
       "          Hits   Flux (on facet)  Power (on facet)  Absorbed (on facet)\n",
       "Facet                                                                  \n",
       "1         3158      395000000000      1.260000e-06                  563\n",
       "2         1585      226000000000      7.070000e-07                  306\n",
       "3          553       82700000000      2.570000e-07                  122\n",
       "4           27        4790000000      2.130000e-08                    9\n",
       "5           21        2900000000      7.650000e-09                    4\n",
       "...        ...               ...               ...                  ...\n",
       "18983  5646064  4100000000000000      1.450000e-01                    0\n",
       "18984  4478467  3140000000000000      1.100000e-01                    0\n",
       "18985  4473338  3130000000000000      1.090000e-01                    0\n",
       "18986  5647019  4100000000000000      1.460000e-01                    0\n",
       "18987  2947574  2130000000000000      6.670000e-02                    0\n",
       "\n",
       "[18987 rows x 4 columns]"
      ]
     },
     "execution_count": 3,
     "metadata": {},
     "output_type": "execute_result"
    }
   ],
   "source": [
    "df_flux = pd.read_excel(os.path.join(base_dir, 'Flux per facet.xlsx')  )\n",
    "\n",
    "df_flux.set_index('Facet', inplace=True)\n",
    "\n",
    "df_flux"
   ]
  },
  {
   "cell_type": "code",
   "execution_count": 4,
   "metadata": {},
   "outputs": [],
   "source": [
    "# df_flux.loc[ 18985 , 'Flux (on facet)' ]"
   ]
  },
  {
   "cell_type": "code",
   "execution_count": 5,
   "metadata": {},
   "outputs": [],
   "source": [
    "df_facets = pd.DataFrame()"
   ]
  },
  {
   "cell_type": "code",
   "execution_count": null,
   "metadata": {},
   "outputs": [
    {
     "name": "stdout",
     "output_type": "stream",
     "text": [
      "13\n",
      "1: facet 18952 | <phi> = 2.535631363771492 ->May2020Lattice/CharlieGeometry/./18952.csv @ 1.12e+15 photon/s, scale = 4.242986657325883e-05\n",
      "2: facet 18966 | <phi> = 0.06672932450701394 ->May2020Lattice/CharlieGeometry/./18966.csv @ 1.93e+16 photon/s, scale = 0.0006966863436901529\n",
      "3: facet 18967 | <phi> = -0.06663993679392326 ->May2020Lattice/CharlieGeometry/./18967.csv @ 1.93e+16 photon/s, scale = 0.0006944849834353145\n",
      "4: facet 18968 | <phi> = -0.2414569714449307 ->May2020Lattice/CharlieGeometry/./18968.csv @ 3.25e+15 photon/s, scale = 0.00012353156909326534\n"
     ]
    }
   ],
   "source": [
    "filenames = glob.glob(os.path.join(base_dir, \"./*.csv\"))\n",
    "print(len(filenames))\n",
    "dfs = []\n",
    "\n",
    "df_facets\n",
    "\n",
    "cnt = 0;\n",
    "for filename in filenames:\n",
    "    cnt = cnt +1\n",
    "    \n",
    "    filename_base = os.path.basename(filename)\n",
    "    try:\n",
    "        facet_id = int(filename_base.split('.')[0]);\n",
    "    except :\n",
    "        print(f'Skip {filename_base}')\n",
    "        continue;\n",
    "        \n",
    "    flux = df_flux.loc[ facet_id , 'Flux (on facet)' ]\n",
    "    \n",
    "    \n",
    "    df = pd.read_csv(filename)\n",
    "    scale = flux / df['Flux_[photon/s]'].sum();\n",
    "    df['Flux_Normalized'] = df.apply(lambda x: x['Flux_[photon/s]'] * scale , axis =1)\n",
    "    \n",
    "    phi_average = np.arctan2(df['Pos_Y_[cm]'].mean(),df['Pos_X_[cm]'].mean())\n",
    "    \n",
    "    print(f'{cnt}: facet {facet_id} | <phi> = {phi_average} ->{filename} @ {flux:.2e} photon/s, scale = {scale}')\n",
    "    \n",
    "    df_facets = df_facets.append(\n",
    "        {'Facet':facet_id, \n",
    "         'Flux': flux, \n",
    "#          'Power': df_flux.loc[ facet_id , 'Power (on facet)'],\n",
    "         'Phi':phi_average}, ignore_index=True)\n",
    "    \n",
    "    dfs.append(df)\n",
    "    \n",
    "\n",
    "big_frame = pd.concat(dfs, ignore_index=True, sort=False)"
   ]
  },
  {
   "cell_type": "code",
   "execution_count": null,
   "metadata": {},
   "outputs": [],
   "source": [
    "\n",
    "df_facets.set_index('Facet', inplace=True)\n",
    "df_facets.to_csv(os.path.join(base_dir, 'Facet_CheckAll.csv'))\n",
    "df_facets"
   ]
  },
  {
   "cell_type": "code",
   "execution_count": null,
   "metadata": {},
   "outputs": [],
   "source": [
    "Phi = big_frame.apply(lambda x : np.arctan2(x['Pos_Y_[cm]'], x['Pos_X_[cm]']), axis=1)"
   ]
  },
  {
   "cell_type": "code",
   "execution_count": null,
   "metadata": {},
   "outputs": [],
   "source": [
    "plt.figure(num=None, figsize=(8, 6), dpi=80, facecolor='w', edgecolor='k')\n",
    "Phi.hist(bins=360)\n",
    "plt.title('All csv: Virtual photon count, No global normalization')\n",
    "plt.xlabel(\"Azimuthal angle [rad]\")\n",
    "plt.ylabel(\"Sum[Virtual photon]/arc Virtual photon/bin\")"
   ]
  },
  {
   "cell_type": "code",
   "execution_count": null,
   "metadata": {},
   "outputs": [],
   "source": [
    "\n",
    "fid = open(f'{base_dir}/flux_for_photon.pickle', 'bw')\n",
    "print(f'saving histogram data to {fid.name}')\n",
    "\n",
    "for  ecut in [0, 2, 10]:\n",
    "\n",
    "    plt.figure(num=None, figsize=(8, 10), dpi=80, facecolor='w', edgecolor='k')\n",
    "\n",
    "    hist_p = plt.hist(\n",
    "        big_frame['Pos_Z_[cm]'].to_numpy(), \n",
    "        bins=np.linspace(-400,350,num=75+1),\n",
    "        weights=big_frame.apply(lambda x: int(x['Energy_[eV]']>ecut * 1e3 and x['Pos_X_[cm]']>0) * x['Flux_Normalized'] / 10, axis=1).to_numpy(),\n",
    "        log = True, label='x>0', alpha = 0.5, lw=3);\n",
    "    hist_n = plt.hist(\n",
    "        big_frame['Pos_Z_[cm]'].to_numpy(), \n",
    "        bins=np.linspace(-400,350,num=75+1),\n",
    "        weights=big_frame.apply(lambda x: int(x['Energy_[eV]']>ecut * 1e3 and x['Pos_X_[cm]']<0) * x['Flux_Normalized'] / 10, axis=1).to_numpy(),\n",
    "        log = True, label='x<0', alpha = 0.5, lw=3);\n",
    "    plt.legend()\n",
    "\n",
    "    plt.title(f'All csv, flux for photon>{ecut}keV, x>0 vs x<0')\n",
    "    plt.xlabel(\"Pos_Z [cm]\")\n",
    "    plt.ylabel(\"Sum[Flux] photon/s/cm\")\n",
    "    \n",
    "    pickle.dump((ecut, f'flux for photon>{ecut}keV', hist_p[0],hist_p[1], hist_n[0],hist_n[1]), fid)\n",
    "\n",
    "fid.close()\n"
   ]
  },
  {
   "cell_type": "code",
   "execution_count": null,
   "metadata": {},
   "outputs": [],
   "source": [
    "plt.figure(num=None, figsize=(8, 6), dpi=80, facecolor='w', edgecolor='k')\n",
    "plt.hist(\n",
    "    Phi.to_numpy(), \n",
    "    bins=np.linspace(-np.pi,np.pi,num=361),\n",
    "    weights=big_frame['Flux_[photon/s]'].to_numpy() / (2*np.pi/360) );\n",
    "plt.title('All csv: No global normalization')\n",
    "plt.xlabel(\"Azimuthal angle [rad]\")\n",
    "plt.ylabel(\"Sum[Flux]/arc photon/s/rad\")"
   ]
  },
  {
   "cell_type": "code",
   "execution_count": null,
   "metadata": {},
   "outputs": [],
   "source": [
    "plt.figure(num=None, figsize=(12, 12), dpi=80, facecolor='w', edgecolor='k')\n",
    "h = plt.hist2d(\n",
    "    x = big_frame['Pos_Z_[cm]'],\n",
    "    y = Phi.to_numpy(), \n",
    "    bins=[np.linspace(-400,350,num=750+1), np.linspace(-np.pi,np.pi,num=361) ] ,\n",
    "    weights=big_frame['Flux_Normalized'].to_numpy() / (2*np.pi*2.9/360),\n",
    "    norm=mpl.colors.LogNorm());\n",
    "plt.title('All csv: after global normalization');\n",
    "plt.xlabel(\"z [cm]\");\n",
    "plt.ylabel(\"Azimuthal angle [rad]\");\n",
    "cbar = plt.colorbar(h[3])\n",
    "cbar.set_label('Sum[Flux]/arc photon/s/cm^2', rotation=270)\n"
   ]
  },
  {
   "cell_type": "code",
   "execution_count": null,
   "metadata": {},
   "outputs": [],
   "source": [
    "plt.figure(num=None, figsize=(8, 6), dpi=80, facecolor='w', edgecolor='k')\n",
    "plt.hist(\n",
    "    Phi.to_numpy(), \n",
    "    bins=np.linspace(-np.pi,np.pi,num=361),\n",
    "    weights=big_frame['Flux_Normalized'].to_numpy() / (2*np.pi/360),\n",
    "    log = True );\n",
    "plt.title('All csv: after global normalization');\n",
    "plt.xlabel(\"Azimuthal angle [rad]\");\n",
    "plt.ylabel(\"Sum[Flux]/arc photon/s/rad\");"
   ]
  },
  {
   "cell_type": "code",
   "execution_count": null,
   "metadata": {},
   "outputs": [],
   "source": [
    "plt.figure(num=None, figsize=(8, 6), dpi=80, facecolor='w', edgecolor='k')\n",
    "plt.hist(\n",
    "    Phi.to_numpy(), \n",
    "    bins=np.linspace(-np.pi,np.pi,num=361),\n",
    "    weights=big_frame['Flux_Normalized'].to_numpy() / (2*np.pi/360),\n",
    "    log = True );\n",
    "plt.title('All csv: after global normalization');\n",
    "plt.xlabel(\"Azimuthal angle [rad]\");\n",
    "plt.ylabel(\"Sum[Flux]/arc photon/s/rad\");\n",
    "plt.ylim((7e15, 3e17))"
   ]
  },
  {
   "cell_type": "code",
   "execution_count": null,
   "metadata": {},
   "outputs": [],
   "source": [
    "plt.figure(num=None, figsize=(8, 6), dpi=80, facecolor='w', edgecolor='k')\n",
    "plt.hist(\n",
    "    Phi.to_numpy(), \n",
    "    bins=np.linspace(-np.pi,np.pi,num=361),\n",
    "    weights=big_frame.apply(lambda x: int(x['Energy_[eV]']>10e3) * x['Flux_Normalized'], axis=1).to_numpy(),\n",
    "    log = True);\n",
    "plt.title('All csv, flux for photon>10keV')\n",
    "plt.xlabel(\"Azimuthal angle [rad]\")\n",
    "plt.ylabel(\"Sum[Flux]/arc photon/s/rad\")"
   ]
  },
  {
   "cell_type": "code",
   "execution_count": null,
   "metadata": {},
   "outputs": [],
   "source": [
    "plt.figure(num=None, figsize=(12, 12), dpi=80, facecolor='w', edgecolor='k')\n",
    "h = plt.hist2d(\n",
    "    x = big_frame['Pos_Z_[cm]'],\n",
    "    y = Phi.to_numpy(), \n",
    "    bins=[np.linspace(-400,350,num=750+1), np.linspace(-np.pi,np.pi,num=361) ] ,\n",
    "    weights=big_frame.apply(lambda x: int(x['Energy_[eV]']>10e3) * x['Flux_Normalized'], axis=1).to_numpy() / (2*np.pi*2.9/360),\n",
    "    norm=mpl.colors.LogNorm());\n",
    "plt.title('All csv: flux for photon>10keV after global normalization');\n",
    "plt.xlabel(\"z [cm]\");\n",
    "plt.ylabel(\"Azimuthal angle [rad]\");\n",
    "cbar = plt.colorbar(h[3])\n",
    "cbar.set_label('Sum[Flux]/arc photon/s/cm^2', rotation=270)"
   ]
  },
  {
   "cell_type": "code",
   "execution_count": null,
   "metadata": {},
   "outputs": [],
   "source": [
    "plt.figure(num=None, figsize=(8, 10), dpi=80, facecolor='w', edgecolor='k')\n",
    "plt.subplot(2, 1, 1)\n",
    "plt.hist(\n",
    "    big_frame['Pos_Z_[cm]'].to_numpy(), \n",
    "    bins=np.linspace(-400,350,num=75+1),\n",
    "    weights=big_frame.apply(lambda x: int(x['Energy_[eV]']>10e3 and x['Pos_X_[cm]']>0) * x['Flux_Normalized'] / 10, axis=1).to_numpy(),\n",
    "    log = True);\n",
    "plt.title('All csv, flux for photon>10keV, x>0')\n",
    "plt.xlabel(\"Pos_Z [cm]\")\n",
    "plt.ylabel(\"Sum[Flux] photon/s/cm\")\n",
    "\n",
    "plt.subplot(2, 1, 2)\n",
    "plt.hist(\n",
    "    big_frame['Pos_Z_[cm]'].to_numpy(), \n",
    "    bins=np.linspace(-400,350,num=75+1),\n",
    "    weights=big_frame.apply(lambda x: int(x['Energy_[eV]']>10e3 and x['Pos_X_[cm]']<0) * x['Flux_Normalized'] / 10, axis=1).to_numpy(),\n",
    "    log = True);\n",
    "plt.title('All csv, flux for photon>10keV, x<0')\n",
    "plt.xlabel(\"Pos_Z [cm]\")\n",
    "plt.ylabel(\"Sum[Flux] photon/s/cm\")"
   ]
  },
  {
   "cell_type": "code",
   "execution_count": null,
   "metadata": {},
   "outputs": [],
   "source": [
    "plt.figure(num=None, figsize=(8, 10), dpi=80, facecolor='w', edgecolor='k')\n",
    "\n",
    "plt.hist(\n",
    "    big_frame['Pos_Z_[cm]'].to_numpy(), \n",
    "    bins=np.linspace(-400,350,num=75+1),\n",
    "    weights=big_frame.apply(lambda x: int(x['Energy_[eV]']>10e3 and x['Pos_X_[cm]']>0)  / 10, axis=1).to_numpy(),\n",
    "    log = True, label='x>0', alpha = 0.5, lw=3);\n",
    "plt.hist(\n",
    "    big_frame['Pos_Z_[cm]'].to_numpy(), \n",
    "    bins=np.linspace(-400,350,num=75+1),\n",
    "    weights=big_frame.apply(lambda x: int(x['Energy_[eV]']>10e3 and x['Pos_X_[cm]']<0)  / 10, axis=1).to_numpy(),\n",
    "    log = True, label='x<0', alpha = 0.5, lw=3);\n",
    "plt.legend()\n",
    "\n",
    "plt.title('All csv, count for virtual photon photon>10keV, x>0 vs x<0')\n",
    "plt.xlabel(\"Pos_Z [cm]\")\n",
    "plt.ylabel(\"Sum[Flux] virtual photon/cm\")"
   ]
  },
  {
   "cell_type": "code",
   "execution_count": null,
   "metadata": {},
   "outputs": [],
   "source": [
    "plt.figure(num=None, figsize=(8, 6), dpi=80, facecolor='w', edgecolor='k')\n",
    "plt.hist(\n",
    "    Phi.to_numpy(), \n",
    "    bins=np.linspace(-np.pi,np.pi,num=361),\n",
    "    weights=big_frame.apply(lambda x: int(x['Energy_[eV]']>10e3), axis=1).to_numpy(),\n",
    "    log = True);\n",
    "plt.title('All csv, count for virtual photon>10keV')\n",
    "plt.xlabel(\"Azimuthal angle [rad]\")\n",
    "plt.ylabel(\"Virtual photon count per bin\")"
   ]
  },
  {
   "cell_type": "code",
   "execution_count": null,
   "metadata": {},
   "outputs": [],
   "source": [
    "plt.figure(num=None, figsize=(8, 6), dpi=80, facecolor='w', edgecolor='k')\n",
    "plt.hist(\n",
    "    Phi.to_numpy(), \n",
    "    bins=np.linspace(-np.pi,np.pi,num=361),\n",
    "    weights=big_frame.apply(lambda x: int(x['Energy_[eV]']>2e3), axis=1).to_numpy(),\n",
    "    log = True);\n",
    "plt.title('All csv, count for virtual photon>2keV')\n",
    "plt.xlabel(\"Azimuthal angle [rad]\")\n",
    "plt.ylabel(\"Virtual photon count per bin\")"
   ]
  },
  {
   "cell_type": "code",
   "execution_count": null,
   "metadata": {},
   "outputs": [],
   "source": [
    "plt.figure(num=None, figsize=(12, 12), dpi=80, facecolor='w', edgecolor='k')\n",
    "h = plt.hist2d(\n",
    "    x = big_frame['Pos_Z_[cm]'],\n",
    "    y = Phi.to_numpy(), \n",
    "    bins=[np.linspace(-400,350,num=750+1), np.linspace(-np.pi,np.pi,num=361) ] ,\n",
    "    weights=big_frame.apply(lambda x: int(x['Energy_[eV]']>2e3) * x['Flux_Normalized'], axis=1).to_numpy() / (2*np.pi*2.9/360),\n",
    "    norm=mpl.colors.LogNorm());\n",
    "plt.title('All csv: flux for photon>2keV after global normalization');\n",
    "plt.xlabel(\"z [cm]\");\n",
    "plt.ylabel(\"Azimuthal angle [rad]\");\n",
    "cbar = plt.colorbar(h[3])\n",
    "cbar.set_label('Sum[Flux]/arc photon/s/cm^2', rotation=270)\n"
   ]
  },
  {
   "cell_type": "code",
   "execution_count": null,
   "metadata": {},
   "outputs": [],
   "source": [
    "big_frame.apply(lambda x: int(x['Energy_[eV]']>10e3), axis=1).sum()"
   ]
  },
  {
   "cell_type": "code",
   "execution_count": null,
   "metadata": {},
   "outputs": [],
   "source": [
    "big_frame.apply(lambda x: int(x['Energy_[eV]']>2e3), axis=1).sum()"
   ]
  },
  {
   "cell_type": "code",
   "execution_count": null,
   "metadata": {},
   "outputs": [],
   "source": [
    "# os.system('jupyter nbconvert --to html CheckAll.ipynb')\n",
    "# os.system(f'mv CheckAll.html {base_dir}/')"
   ]
  },
  {
   "cell_type": "code",
   "execution_count": null,
   "metadata": {},
   "outputs": [],
   "source": [
    "# from time import sleep\n",
    "# from IPython.display import display, Javascript\n",
    "# import hashlib\n",
    "\n",
    "# def save_notebook(file_path):\n",
    "#     start_md5 = hashlib.md5(open(file_path,'rb').read()).hexdigest()\n",
    "#     display(Javascript('IPython.notebook.save_checkpoint();'))\n",
    "#     current_md5 = start_md5\n",
    "\n",
    "#     while start_md5 == current_md5:\n",
    "#         sleep(1)\n",
    "#         current_md5 = hashlib.md5(open(file_path,'rb').read()).hexdigest()\n",
    "        \n",
    "#     print(f'saved to {file_path} {start_md5} -> {current_md5}');\n",
    "\n",
    "\n",
    "# save_notebook('CheckAll.ipynb')\n",
    "os.system('jupyter nbconvert --to html CheckAll.ipynb')\n",
    "print(os.popen(f'mv -fv CheckAll.html \\'{base_dir}/\\'').read())\n"
   ]
  },
  {
   "cell_type": "code",
   "execution_count": null,
   "metadata": {},
   "outputs": [],
   "source": []
  }
 ],
 "metadata": {
  "kernelspec": {
   "display_name": "Python (sPHENIX)",
   "language": "python",
   "name": "sphenix-env"
  },
  "language_info": {
   "codemirror_mode": {
    "name": "ipython",
    "version": 3
   },
   "file_extension": ".py",
   "mimetype": "text/x-python",
   "name": "python",
   "nbconvert_exporter": "python",
   "pygments_lexer": "ipython3",
   "version": "3.8.0"
  }
 },
 "nbformat": 4,
 "nbformat_minor": 4
}

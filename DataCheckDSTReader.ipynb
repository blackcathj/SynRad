{
 "cells": [
  {
   "cell_type": "code",
   "execution_count": 1,
   "metadata": {},
   "outputs": [],
   "source": [
    "%%cpp -d\n",
    "\n",
    "#include \"sPhenixStyle.C\"\n",
    "#include \"SaveCanvas.C\"\n"
   ]
  },
  {
   "cell_type": "code",
   "execution_count": 2,
   "metadata": {},
   "outputs": [
    {
     "name": "stdout",
     "output_type": "stream",
     "text": [
      "sPhenixStyle: Applying nominal settings.\n",
      "sPhenixStyle: ROOT6 mode\n"
     ]
    }
   ],
   "source": [
    "SetsPhenixStyle();\n",
    "gStyle->SetOptStat(0);\n",
    "gStyle->SetOptFit(1111);\n",
    "TVirtualFitter::SetDefaultFitter(\"Minuit2\");\n",
    "\n",
    "gSystem->Load(\"libg4eval.so\");"
   ]
  },
  {
   "cell_type": "code",
   "execution_count": 3,
   "metadata": {},
   "outputs": [],
   "source": [
    "// const TString infile = \"production-1-take2/18966.ALL.csv_DSTReader.root\";\n",
    "const TString infile = \"production-1-take2/ALL.ALL.csv_DSTReader.root\";\n",
    "\n",
    "// const TString infile = \"production-1/18966.ALL.csv_DSTReader.root\";\n",
    "// const TString infile = \"production-1/18966.5.csv_DSTReader.root\";\n",
    "    "
   ]
  },
  {
   "cell_type": "code",
   "execution_count": 4,
   "metadata": {},
   "outputs": [
    {
     "name": "stdout",
     "output_type": "stream",
     "text": [
      "Loaded 360 root files with production-1-take2/*.*.csv_DSTReader.root\n"
     ]
    }
   ],
   "source": [
    "TString chian_str = infile;\n",
    "chian_str.ReplaceAll(\"ALL\", \"*\");\n",
    "\n",
    "TChain *T = new TChain(\"T\");\n",
    "const int n = T->Add(chian_str);\n",
    "\n",
    "cout << \"Loaded \" << n << \" root files with \" << chian_str << endl;\n",
    "assert(n > 0);\n",
    "\n",
    "TFile *_file0 = NULL;\n",
    "_file0 = new TFile;\n",
    "_file0->SetName(infile);"
   ]
  },
  {
   "cell_type": "code",
   "execution_count": 5,
   "metadata": {},
   "outputs": [
    {
     "name": "stdout",
     "output_type": "stream",
     "text": [
      "======> EVENT:9005\n",
      " n_G4HIT_SVTX    = 0\n",
      " n_G4HIT_MVTX    = 0\n",
      " n_G4HIT_EGEM_0  = 0\n",
      " n_G4HIT_EGEM_1  = 0\n",
      " n_G4HIT_EGEM_2  = 0\n",
      " n_G4HIT_EGEM_3  = 0\n",
      " n_G4HIT_FGEM_2  = 0\n",
      " n_G4HIT_FGEM_3  = 0\n",
      " n_G4HIT_FGEM_4  = 0\n",
      " n_G4HIT_FST_0   = 0\n",
      " n_G4HIT_FST_1   = 0\n",
      " n_G4HIT_FST_2   = 0\n",
      " n_G4HIT_FST_3   = 0\n",
      " n_G4HIT_FST_4   = 0\n",
      " n_G4HIT_CEMC    = 0\n",
      " n_G4HIT_HCALIN  = 0\n",
      " n_G4HIT_HCALOUT = 0\n",
      " n_G4HIT_FHCAL   = 0\n",
      " n_G4HIT_FEMC    = 0\n",
      " n_G4HIT_EEMC    = 0\n",
      " n_G4HIT_BH_1    = 0\n",
      " n_G4HIT_BH_FORWARD_PLUS = 0\n",
      " n_G4HIT_BH_FORWARD_NEG = 0\n",
      " n_PHG4Particle  = 1\n",
      " PHG4Particle    = 1\n",
      " PHG4Particle.fUniqueID = 0\n",
      " PHG4Particle.fBits = 33554432\n",
      " PHG4Particle.fname = gamma\n",
      " PHG4Particle.fpid = 22\n",
      " PHG4Particle.fpx = -2.61926e-09\n",
      " PHG4Particle.fpy = 4.56209e-10\n",
      " PHG4Particle.fpz = -1.6535e-08\n",
      " PHG4Particle.barcode = -1\n",
      " PHG4Particle.trkid = 1\n",
      " PHG4Particle.vtxid = 1\n",
      " PHG4Particle.parentid = 0\n",
      " PHG4Particle.primaryid = 1\n",
      " PHG4Particle.fe = 1.67474e-08\n",
      " n_PHG4VtxPoint  = 1\n",
      " PHG4VtxPoint    = 1\n",
      " PHG4VtxPoint.fUniqueID = 0\n",
      " PHG4VtxPoint.fBits = 33554432\n",
      " PHG4VtxPoint.vx = -2.35191\n",
      " PHG4VtxPoint.vy = 1.7049\n",
      " PHG4VtxPoint.vz = 112.17\n",
      " PHG4VtxPoint.t0 = 0\n",
      " PHG4VtxPoint.id = 1\n"
     ]
    }
   ],
   "source": [
    "T->Show(9005);"
   ]
  },
  {
   "cell_type": "code",
   "execution_count": 6,
   "metadata": {
    "scrolled": true
   },
   "outputs": [],
   "source": [
    "// T->Scan(\"\",\"n_G4HIT_MVTX>0\");"
   ]
  },
  {
   "cell_type": "code",
   "execution_count": null,
   "metadata": {},
   "outputs": [],
   "source": [
    "{\n",
    "    TCanvas *c1 = new TCanvas(\"h_DSTReader_z\", \"h_DSTReader_z\", 1000, 860);\n",
    "    int idx = 1;\n",
    "    TPad *p = nullptr;\n",
    "\n",
    "    p = (TPad *) c1->cd(idx++);\n",
    "    c1->Update();\n",
    "    p->SetLogy();\n",
    "    \n",
    "    TH1*hz = new TH1F(\"hz\",\"Photons and MAPS hits;Vertex z;Virtual Photon Count\",80,-400,400);\n",
    "    T->Draw(\"Sum$(PHG4VtxPoint.vz * (PHG4VtxPoint.id == 1))>>hz\",\"n_G4HIT_MVTX>0\",\"goff\");\n",
    "    \n",
    "    TH1*hz_all = new TH1F(\"hz_all\",\"Photons and MAPS hits;Vertex z;Virtual Photon Count\",80,-400,400);\n",
    "    T->Draw(\"Sum$(PHG4VtxPoint.vz * (PHG4VtxPoint.id == 1)) >> hz_all\",\"1\",\"goff\");\n",
    "    \n",
    "    TH1*hz_all_10keV = new TH1F(\"hz_all_10keV\",\"Photons and MAPS hits;Vertex z;Virtual Photon Count\",80,-400,400);\n",
    "    T->Draw(\"Sum$(PHG4VtxPoint.vz * (PHG4VtxPoint.id == 1)) >> hz_all_10keV\",\n",
    "            \"Sum$((PHG4Particle.trkid==1 && PHG4Particle.fe>10e-6) )\",\"goff\");\n",
    "    \n",
    "    hz_all->Draw();\n",
    "    hz_all_10keV->Draw(\"same\");\n",
    "    hz->Draw(\"same\");\n",
    "    \n",
    "    hz_all->SetFillColor(kGreen+2);\n",
    "    hz_all_10keV->SetFillColor(kBlue+2);\n",
    "    hz->SetFillColor(kRed+2);\n",
    "    \n",
    "    hz_all->GetYaxis()->SetRangeUser(1, hz_all->GetMaximum()*1000);\n",
    "    \n",
    "    \n",
    "    TLegend *leg = new TLegend(.2, .7, .9, .9,   \"Fun4All-EIC + SynRad simulation\");\n",
    "    leg->AddEntry(hz_all, \"All SynRad virtual #gamma\", \"lf\");\n",
    "    leg->AddEntry(hz_all_10keV, \"e_{#gamma} > 10keV\", \"lf\");\n",
    "    leg->AddEntry(hz, \"Interacted with MAPS tracker\", \"lf\");\n",
    "    leg->Draw();\n",
    "\n",
    "    c1->Draw();\n",
    "    \n",
    "    SaveCanvas(c1,\n",
    "     TString(_file0->GetName()) + TString(c1->GetName()), false);\n",
    "}"
   ]
  },
  {
   "cell_type": "code",
   "execution_count": null,
   "metadata": {},
   "outputs": [],
   "source": [
    "{\n",
    "    TCanvas *c1 = new TCanvas(\"h_DSTReader_photonEnergy\", \"h_DSTReader_photonEnergy\", 1000, 860);\n",
    "    int idx = 1;\n",
    "    TPad *p = nullptr;\n",
    "\n",
    "    p = (TPad *) c1->cd(idx++);\n",
    "    c1->Update();\n",
    "    p->SetLogy();\n",
    "    \n",
    "    TH1*he = new TH1F(\"he\",\n",
    "                      \"\",\n",
    "                      100,0,100);\n",
    "    T->Draw(\"Sum$(PHG4Particle.fe * (PHG4Particle.trkid==1) )* 1e6>>he\",\"n_G4HIT_MVTX>0\",\"goff\");\n",
    "    \n",
    "    TH1*he_all = new TH1F(\"he_all\",\n",
    "                          \"Photons and MAPS hits;Virtual Photon energy [keV];Virtual Photon Count\",\n",
    "                          100,0,100);\n",
    "    T->Draw(\"Sum$(PHG4Particle.fe * (PHG4Particle.trkid==1))  * 1e6>> he_all\",\"1\",\"goff\");\n",
    "    \n",
    "    TH1*he_all_z = new TH1F(\"he_all_z\",\"\",100,0,100);\n",
    "    T->Draw(\"Sum$(PHG4Particle.fe * (PHG4Particle.trkid==1) ) * 1e6>> he_all_z\",\n",
    "            \"abs(Sum$(PHG4VtxPoint.vz * (PHG4VtxPoint.id == 1)) - 50) < 50\",\"goff\");\n",
    "    \n",
    "    he_all->Draw();\n",
    "    he_all_z->Draw(\"same\");\n",
    "    he->Draw(\"same\");\n",
    "    \n",
    "    he_all->SetFillColor(kGreen+2);\n",
    "    he_all_z->SetFillColor(kBlue+2);\n",
    "    he->SetFillColor(kRed+2);\n",
    "    \n",
    "    he_all->GetYaxis()->SetRangeUser(1, he_all->GetMaximum()*1000);\n",
    "    \n",
    "    \n",
    "    TLegend *leg = new TLegend(.2, .7, .9, .9,   \"Fun4All-EIC + SynRad simulation\");\n",
    "    leg->AddEntry(he_all, \"All SynRad virtual #gamma\", \"lf\");\n",
    "    leg->AddEntry(he_all_z, \"0< z_{#gamma} < 100 cm\", \"lf\");\n",
    "    leg->AddEntry(he, \"Interacted with MAPS tracker\", \"lf\");\n",
    "    leg->Draw();\n",
    "    \n",
    "    c1->Draw();\n",
    "    \n",
    "    SaveCanvas(c1,\n",
    "     TString(_file0->GetName()) + TString(c1->GetName()), false);\n",
    "}"
   ]
  },
  {
   "cell_type": "code",
   "execution_count": null,
   "metadata": {},
   "outputs": [],
   "source": []
  }
 ],
 "metadata": {
  "kernelspec": {
   "display_name": "sPHENIX ROOT C++",
   "language": "c++",
   "name": "sphenix-root"
  },
  "language_info": {
   "codemirror_mode": "text/x-c++src",
   "file_extension": ".C",
   "mimetype": " text/x-c++src",
   "name": "c++"
  }
 },
 "nbformat": 4,
 "nbformat_minor": 4
}

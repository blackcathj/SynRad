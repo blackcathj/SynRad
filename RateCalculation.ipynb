{
 "cells": [
  {
   "cell_type": "code",
   "execution_count": 1,
   "metadata": {},
   "outputs": [
    {
     "name": "stdout",
     "output_type": "stream",
     "text": [
      "Welcome to JupyROOT 6.16/00\n"
     ]
    }
   ],
   "source": [
    "import pandas as pd\n",
    "import os\n",
    "import matplotlib.pyplot as plt\n",
    "import matplotlib as mpl\n",
    "import matplotlib.colors\n",
    "import numpy as np\n",
    "import glob\n",
    "mpl.style.use('seaborn-talk')\n",
    "import ROOT"
   ]
  },
  {
   "cell_type": "code",
   "execution_count": 2,
   "metadata": {},
   "outputs": [],
   "source": [
    "%%cpp -d\n",
    "\n",
    "#include \"sPhenixStyle.C\"\n",
    "#include \"SaveCanvas.C\"\n",
    "#include <TStyle.h>"
   ]
  },
  {
   "cell_type": "code",
   "execution_count": 3,
   "metadata": {},
   "outputs": [
    {
     "name": "stdout",
     "output_type": "stream",
     "text": [
      "sPhenixStyle: Applying nominal settings.\n",
      "sPhenixStyle: ROOT6 mode\n"
     ]
    }
   ],
   "source": [
    "%%cpp\n",
    "\n",
    "SetsPhenixStyle();\n",
    "gStyle->SetOptStat(0);\n",
    "gStyle->SetOptFit(1111);\n",
    "TVirtualFitter::SetDefaultFitter(\"Minuit2\");\n",
    "\n",
    "gSystem->Load(\"libg4eval.so\");"
   ]
  },
  {
   "cell_type": "code",
   "execution_count": 4,
   "metadata": {},
   "outputs": [],
   "source": [
    "base_dir = 'production-3-full-beam-full-magnet'\n",
    "\n",
    "# base_dir = 'Scraper at z 350 cm'"
   ]
  },
  {
   "cell_type": "code",
   "execution_count": 5,
   "metadata": {},
   "outputs": [
    {
     "data": {
      "text/html": [
       "<div>\n",
       "<style scoped>\n",
       "    .dataframe tbody tr th:only-of-type {\n",
       "        vertical-align: middle;\n",
       "    }\n",
       "\n",
       "    .dataframe tbody tr th {\n",
       "        vertical-align: top;\n",
       "    }\n",
       "\n",
       "    .dataframe thead th {\n",
       "        text-align: right;\n",
       "    }\n",
       "</style>\n",
       "<table border=\"1\" class=\"dataframe\">\n",
       "  <thead>\n",
       "    <tr style=\"text-align: right;\">\n",
       "      <th></th>\n",
       "      <th>Flux</th>\n",
       "      <th>Phi</th>\n",
       "    </tr>\n",
       "    <tr>\n",
       "      <th>Facet</th>\n",
       "      <th></th>\n",
       "      <th></th>\n",
       "    </tr>\n",
       "  </thead>\n",
       "  <tbody>\n",
       "    <tr>\n",
       "      <th>18964.0</th>\n",
       "      <td>2.700000e+15</td>\n",
       "      <td>0.423537</td>\n",
       "    </tr>\n",
       "    <tr>\n",
       "      <th>18965.0</th>\n",
       "      <td>6.220000e+15</td>\n",
       "      <td>0.257193</td>\n",
       "    </tr>\n",
       "    <tr>\n",
       "      <th>18966.0</th>\n",
       "      <td>5.280000e+15</td>\n",
       "      <td>0.059895</td>\n",
       "    </tr>\n",
       "    <tr>\n",
       "      <th>18967.0</th>\n",
       "      <td>5.280000e+15</td>\n",
       "      <td>-0.059974</td>\n",
       "    </tr>\n",
       "    <tr>\n",
       "      <th>18968.0</th>\n",
       "      <td>6.210000e+15</td>\n",
       "      <td>-0.257590</td>\n",
       "    </tr>\n",
       "    <tr>\n",
       "      <th>18982.0</th>\n",
       "      <td>1.620000e+15</td>\n",
       "      <td>-2.709813</td>\n",
       "    </tr>\n",
       "    <tr>\n",
       "      <th>18983.0</th>\n",
       "      <td>3.340000e+15</td>\n",
       "      <td>-2.897719</td>\n",
       "    </tr>\n",
       "    <tr>\n",
       "      <th>18984.0</th>\n",
       "      <td>2.320000e+16</td>\n",
       "      <td>-3.085536</td>\n",
       "    </tr>\n",
       "    <tr>\n",
       "      <th>18985.0</th>\n",
       "      <td>2.320000e+16</td>\n",
       "      <td>3.085618</td>\n",
       "    </tr>\n",
       "    <tr>\n",
       "      <th>18986.0</th>\n",
       "      <td>3.330000e+15</td>\n",
       "      <td>2.897815</td>\n",
       "    </tr>\n",
       "    <tr>\n",
       "      <th>18987.0</th>\n",
       "      <td>1.620000e+15</td>\n",
       "      <td>2.709529</td>\n",
       "    </tr>\n",
       "  </tbody>\n",
       "</table>\n",
       "</div>"
      ],
      "text/plain": [
       "                 Flux       Phi\n",
       "Facet                          \n",
       "18964.0  2.700000e+15  0.423537\n",
       "18965.0  6.220000e+15  0.257193\n",
       "18966.0  5.280000e+15  0.059895\n",
       "18967.0  5.280000e+15 -0.059974\n",
       "18968.0  6.210000e+15 -0.257590\n",
       "18982.0  1.620000e+15 -2.709813\n",
       "18983.0  3.340000e+15 -2.897719\n",
       "18984.0  2.320000e+16 -3.085536\n",
       "18985.0  2.320000e+16  3.085618\n",
       "18986.0  3.330000e+15  2.897815\n",
       "18987.0  1.620000e+15  2.709529"
      ]
     },
     "execution_count": 5,
     "metadata": {},
     "output_type": "execute_result"
    }
   ],
   "source": [
    "df_facets= pd.read_csv(os.path.join(base_dir, 'Facet_CheckAll.csv'))\n",
    "df_facets.set_index('Facet', inplace=True)\n",
    "df_facets"
   ]
  },
  {
   "cell_type": "code",
   "execution_count": 6,
   "metadata": {},
   "outputs": [
    {
     "data": {
      "text/plain": [
       "[18964.0,\n",
       " 18965.0,\n",
       " 18966.0,\n",
       " 18967.0,\n",
       " 18968.0,\n",
       " 18982.0,\n",
       " 18983.0,\n",
       " 18984.0,\n",
       " 18985.0,\n",
       " 18986.0,\n",
       " 18987.0]"
      ]
     },
     "execution_count": 6,
     "metadata": {},
     "output_type": "execute_result"
    }
   ],
   "source": [
    "df_facets.index.to_list()"
   ]
  },
  {
   "cell_type": "code",
   "execution_count": 7,
   "metadata": {
    "scrolled": true
   },
   "outputs": [
    {
     "name": "stdout",
     "output_type": "stream",
     "text": [
      "-rw-r--r-- 1 jinhuang rhphenix 97K May 28 09:21 production-3-full-beam-full-magnet/18964_SUM.csv_SynRadAna.root\n",
      "\n",
      "-rw-r--r-- 1 jinhuang rhphenix 98K May 28 09:21 production-3-full-beam-full-magnet/18965_SUM.csv_SynRadAna.root\n",
      "\n",
      "-rw-r--r-- 1 jinhuang rhphenix 200K May 28 00:20 production-3-full-beam-full-magnet/18966_SUM.csv_SynRadAna.root\n",
      "\n",
      "-rw-r--r-- 1 jinhuang rhphenix 199K May 28 09:21 production-3-full-beam-full-magnet/18967_SUM.csv_SynRadAna.root\n",
      "\n",
      "-rw-r--r-- 1 jinhuang rhphenix 98K May 28 09:21 production-3-full-beam-full-magnet/18968_SUM.csv_SynRadAna.root\n",
      "\n",
      "-rw-r--r-- 1 jinhuang rhphenix 95K May 28 09:21 production-3-full-beam-full-magnet/18982_SUM.csv_SynRadAna.root\n",
      "\n",
      "-rw-r--r-- 1 jinhuang rhphenix 97K May 28 09:21 production-3-full-beam-full-magnet/18983_SUM.csv_SynRadAna.root\n",
      "\n",
      "-rw-r--r-- 1 jinhuang rhphenix 161K May 28 09:21 production-3-full-beam-full-magnet/18984_SUM.csv_SynRadAna.root\n",
      "\n",
      "-rw-r--r-- 1 jinhuang rhphenix 161K May 28 09:21 production-3-full-beam-full-magnet/18985_SUM.csv_SynRadAna.root\n",
      "\n",
      "-rw-r--r-- 1 jinhuang rhphenix 97K May 28 09:21 production-3-full-beam-full-magnet/18986_SUM.csv_SynRadAna.root\n",
      "\n",
      "-rw-r--r-- 1 jinhuang rhphenix 95K May 28 09:21 production-3-full-beam-full-magnet/18987_SUM.csv_SynRadAna.root\n",
      "\n"
     ]
    }
   ],
   "source": [
    "# facet = int(18966)\n",
    "\n",
    "for facet_f in df_facets.index.to_list():\n",
    "    facet = int(facet_f)\n",
    "    filenames = glob.glob(os.path.join(base_dir, f'{facet}.[0-9]*.csv_SynRadAna.root'))\n",
    "#     print(len(filenames))\n",
    "\n",
    "    src_filenames=\" \".join(filenames);\n",
    "    joint_file = os.path.join(base_dir, f'{facet}_SUM.csv_SynRadAna.root')\n",
    "\n",
    "    if (not os.path.exists(joint_file)):\n",
    "        print(os.popen(f'hadd -f {joint_file} {src_filenames} ').read())\n",
    "    else:\n",
    "        print(os.popen(f'ls -lhv {joint_file} ').read())"
   ]
  },
  {
   "cell_type": "code",
   "execution_count": 8,
   "metadata": {},
   "outputs": [
    {
     "data": {
      "text/plain": [
       "'production-3-full-beam-full-magnet/18987_SUM.csv_SynRadAna.root'"
      ]
     },
     "execution_count": 8,
     "metadata": {},
     "output_type": "execute_result"
    }
   ],
   "source": [
    "joint_file"
   ]
  },
  {
   "cell_type": "code",
   "execution_count": 9,
   "metadata": {},
   "outputs": [],
   "source": [
    "root_file = ROOT.TFile.Open(joint_file)"
   ]
  },
  {
   "cell_type": "code",
   "execution_count": 10,
   "metadata": {},
   "outputs": [],
   "source": [
    "h_SynRadAna_Normalization = root_file.Get('h_SynRadAna_Normalization')"
   ]
  },
  {
   "cell_type": "code",
   "execution_count": 11,
   "metadata": {},
   "outputs": [
    {
     "name": "stdout",
     "output_type": "stream",
     "text": [
      "This is a C++ cell\n",
      "TFile**\t\tproduction-3-full-beam-full-magnet/18987_SUM.csv_SynRadAna.root\t\n",
      " TFile*\t\tproduction-3-full-beam-full-magnet/18987_SUM.csv_SynRadAna.root\t\n",
      "  OBJ: TH1D\th_SynRadAna_Normalization\th_SynRadAna_ Normalization : 0 at: 0x7c0daf0\n",
      "  KEY: TH2D\th_SynRadAna_BH_1_nHit;1\tHit sum\n",
      "  KEY: TH2D\th_SynRadAna_BH_1_photonEnergy;1\tHit source photon\n",
      "  KEY: TH2D\th_SynRadAna_BH_1_sumEdep;1\tHit sum energy distribution\n",
      "  KEY: TH2D\th_SynRadAna_BH_FORWARD_NEG_nHit;1\tHit sum\n",
      "  KEY: TH2D\th_SynRadAna_BH_FORWARD_NEG_photonEnergy;1\tHit source photon\n",
      "  KEY: TH2D\th_SynRadAna_BH_FORWARD_NEG_sumEdep;1\tHit sum energy distribution\n",
      "  KEY: TH2D\th_SynRadAna_BH_FORWARD_PLUS_nHit;1\tHit sum\n",
      "  KEY: TH2D\th_SynRadAna_BH_FORWARD_PLUS_photonEnergy;1\tHit source photon\n",
      "  KEY: TH2D\th_SynRadAna_BH_FORWARD_PLUS_sumEdep;1\tHit sum energy distribution\n",
      "  KEY: TH2D\th_SynRadAna_CEMC_nHit;1\tHit sum\n",
      "  KEY: TH2D\th_SynRadAna_CEMC_photonEnergy;1\tHit source photon\n",
      "  KEY: TH2D\th_SynRadAna_CEMC_sumEdep;1\tHit sum energy distribution\n",
      "  KEY: TH2D\th_SynRadAna_EEMC_nHit;1\tHit sum\n",
      "  KEY: TH2D\th_SynRadAna_EEMC_photonEnergy;1\tHit source photon\n",
      "  KEY: TH2D\th_SynRadAna_EEMC_sumEdep;1\tHit sum energy distribution\n",
      "  KEY: TH2D\th_SynRadAna_EGEM_0_nHit;1\tHit sum\n",
      "  KEY: TH2D\th_SynRadAna_EGEM_0_photonEnergy;1\tHit source photon\n",
      "  KEY: TH2D\th_SynRadAna_EGEM_0_sumEdep;1\tHit sum energy distribution\n",
      "  KEY: TH2D\th_SynRadAna_EGEM_1_nHit;1\tHit sum\n",
      "  KEY: TH2D\th_SynRadAna_EGEM_1_photonEnergy;1\tHit source photon\n",
      "  KEY: TH2D\th_SynRadAna_EGEM_1_sumEdep;1\tHit sum energy distribution\n",
      "  KEY: TH2D\th_SynRadAna_EGEM_2_nHit;1\tHit sum\n",
      "  KEY: TH2D\th_SynRadAna_EGEM_2_photonEnergy;1\tHit source photon\n",
      "  KEY: TH2D\th_SynRadAna_EGEM_2_sumEdep;1\tHit sum energy distribution\n",
      "  KEY: TH2D\th_SynRadAna_EGEM_3_nHit;1\tHit sum\n",
      "  KEY: TH2D\th_SynRadAna_EGEM_3_photonEnergy;1\tHit source photon\n",
      "  KEY: TH2D\th_SynRadAna_EGEM_3_sumEdep;1\tHit sum energy distribution\n",
      "  KEY: TH2D\th_SynRadAna_FEMC_nHit;1\tHit sum\n",
      "  KEY: TH2D\th_SynRadAna_FEMC_photonEnergy;1\tHit source photon\n",
      "  KEY: TH2D\th_SynRadAna_FEMC_sumEdep;1\tHit sum energy distribution\n",
      "  KEY: TH2D\th_SynRadAna_FGEM_2_nHit;1\tHit sum\n",
      "  KEY: TH2D\th_SynRadAna_FGEM_2_photonEnergy;1\tHit source photon\n",
      "  KEY: TH2D\th_SynRadAna_FGEM_2_sumEdep;1\tHit sum energy distribution\n",
      "  KEY: TH2D\th_SynRadAna_FGEM_3_nHit;1\tHit sum\n",
      "  KEY: TH2D\th_SynRadAna_FGEM_3_photonEnergy;1\tHit source photon\n",
      "  KEY: TH2D\th_SynRadAna_FGEM_3_sumEdep;1\tHit sum energy distribution\n",
      "  KEY: TH2D\th_SynRadAna_FGEM_4_nHit;1\tHit sum\n",
      "  KEY: TH2D\th_SynRadAna_FGEM_4_photonEnergy;1\tHit source photon\n",
      "  KEY: TH2D\th_SynRadAna_FGEM_4_sumEdep;1\tHit sum energy distribution\n",
      "  KEY: TH2D\th_SynRadAna_FHCAL_nHit;1\tHit sum\n",
      "  KEY: TH2D\th_SynRadAna_FHCAL_photonEnergy;1\tHit source photon\n",
      "  KEY: TH2D\th_SynRadAna_FHCAL_sumEdep;1\tHit sum energy distribution\n",
      "  KEY: TH2D\th_SynRadAna_FST_0_nHit;1\tHit sum\n",
      "  KEY: TH2D\th_SynRadAna_FST_0_photonEnergy;1\tHit source photon\n",
      "  KEY: TH2D\th_SynRadAna_FST_0_sumEdep;1\tHit sum energy distribution\n",
      "  KEY: TH2D\th_SynRadAna_FST_1_nHit;1\tHit sum\n",
      "  KEY: TH2D\th_SynRadAna_FST_1_photonEnergy;1\tHit source photon\n",
      "  KEY: TH2D\th_SynRadAna_FST_1_sumEdep;1\tHit sum energy distribution\n",
      "  KEY: TH2D\th_SynRadAna_FST_2_nHit;1\tHit sum\n",
      "  KEY: TH2D\th_SynRadAna_FST_2_photonEnergy;1\tHit source photon\n",
      "  KEY: TH2D\th_SynRadAna_FST_2_sumEdep;1\tHit sum energy distribution\n",
      "  KEY: TH2D\th_SynRadAna_FST_3_nHit;1\tHit sum\n",
      "  KEY: TH2D\th_SynRadAna_FST_3_photonEnergy;1\tHit source photon\n",
      "  KEY: TH2D\th_SynRadAna_FST_3_sumEdep;1\tHit sum energy distribution\n",
      "  KEY: TH2D\th_SynRadAna_FST_4_nHit;1\tHit sum\n",
      "  KEY: TH2D\th_SynRadAna_FST_4_photonEnergy;1\tHit source photon\n",
      "  KEY: TH2D\th_SynRadAna_FST_4_sumEdep;1\tHit sum energy distribution\n",
      "  KEY: TH2D\th_SynRadAna_HCALIN_nHit;1\tHit sum\n",
      "  KEY: TH2D\th_SynRadAna_HCALIN_photonEnergy;1\tHit source photon\n",
      "  KEY: TH2D\th_SynRadAna_HCALIN_sumEdep;1\tHit sum energy distribution\n",
      "  KEY: TH2D\th_SynRadAna_HCALOUT_nHit;1\tHit sum\n",
      "  KEY: TH2D\th_SynRadAna_HCALOUT_photonEnergy;1\tHit source photon\n",
      "  KEY: TH2D\th_SynRadAna_HCALOUT_sumEdep;1\tHit sum energy distribution\n",
      "  KEY: TH2D\th_SynRadAna_MVTXHit_nHit;1\tHit sum\n",
      "  KEY: TH2D\th_SynRadAna_MVTXHit_nHit_Layer;1\tHit sum\n",
      "  KEY: TH2D\th_SynRadAna_MVTX_nHit;1\tHit sum\n",
      "  KEY: TH2D\th_SynRadAna_MVTX_photonEnergy;1\tHit source photon\n",
      "  KEY: TH2D\th_SynRadAna_MVTX_sumEdep;1\tHit sum energy distribution\n",
      "  KEY: TH1D\th_SynRadAna_Normalization;1\th_SynRadAna_ Normalization\n",
      "  KEY: TH2D\th_SynRadAna_PIPE_nHit;1\tHit sum\n",
      "  KEY: TH2D\th_SynRadAna_PIPE_photonEnergy;1\tHit source photon\n",
      "  KEY: TH2D\th_SynRadAna_PIPE_sumEdep;1\tHit sum energy distribution\n",
      "  KEY: TH2D\th_SynRadAna_SVTX_nHit;1\tHit sum\n",
      "  KEY: TH2D\th_SynRadAna_SVTX_photonEnergy;1\tHit source photon\n",
      "  KEY: TH2D\th_SynRadAna_SVTX_sumEdep;1\tHit sum energy distribution\n",
      "  KEY: TH2D\th_SynRadAna_photonEnergy;1\tSource photon\n"
     ]
    }
   ],
   "source": [
    "%%cpp\n",
    "cout << \"This is a C++ cell\" << endl;\n",
    "\n",
    "gDirectory->ls();"
   ]
  },
  {
   "cell_type": "code",
   "execution_count": 14,
   "metadata": {},
   "outputs": [
    {
     "name": "stderr",
     "output_type": "stream",
     "text": [
      "Warning in <TCanvas::Constructor>: Deleting canvas with same name: Check\n"
     ]
    },
    {
     "data": {
      "image/png": "[encoded data removed]",
      "text/plain": [
       "<IPython.core.display.Image object>"
      ]
     },
     "metadata": {},
     "output_type": "display_data"
    }
   ],
   "source": [
    "c1 = ROOT.TCanvas( 'Check', 'Check', 1000, 900)\n",
    "idx = 1;\n",
    "\n",
    "p = c1.cd(idx);\n",
    "idx = idx + 1;\n",
    "c1.Update();\n",
    "p.SetLogy();\n",
    "\n",
    "h_SynRadAna_Normalization.Draw();\n",
    "\n",
    "c1.Draw()"
   ]
  },
  {
   "cell_type": "code",
   "execution_count": 13,
   "metadata": {},
   "outputs": [
    {
     "name": "stdout",
     "output_type": "stream",
     "text": [
      "TFile**\t\tproduction-3-full-beam-full-magnet/18987_SUM.csv_SynRadAna.root\t\n",
      " TFile*\t\tproduction-3-full-beam-full-magnet/18987_SUM.csv_SynRadAna.root\t\n",
      "  OBJ: TH1D\th_SynRadAna_Normalization\th_SynRadAna_ Normalization : 0 at: 0x7c0daf0\n",
      "  KEY: TH2D\th_SynRadAna_BH_1_nHit;1\tHit sum\n",
      "  KEY: TH2D\th_SynRadAna_BH_1_photonEnergy;1\tHit source photon\n",
      "  KEY: TH2D\th_SynRadAna_BH_1_sumEdep;1\tHit sum energy distribution\n",
      "  KEY: TH2D\th_SynRadAna_BH_FORWARD_NEG_nHit;1\tHit sum\n",
      "  KEY: TH2D\th_SynRadAna_BH_FORWARD_NEG_photonEnergy;1\tHit source photon\n",
      "  KEY: TH2D\th_SynRadAna_BH_FORWARD_NEG_sumEdep;1\tHit sum energy distribution\n",
      "  KEY: TH2D\th_SynRadAna_BH_FORWARD_PLUS_nHit;1\tHit sum\n",
      "  KEY: TH2D\th_SynRadAna_BH_FORWARD_PLUS_photonEnergy;1\tHit source photon\n",
      "  KEY: TH2D\th_SynRadAna_BH_FORWARD_PLUS_sumEdep;1\tHit sum energy distribution\n",
      "  KEY: TH2D\th_SynRadAna_CEMC_nHit;1\tHit sum\n",
      "  KEY: TH2D\th_SynRadAna_CEMC_photonEnergy;1\tHit source photon\n",
      "  KEY: TH2D\th_SynRadAna_CEMC_sumEdep;1\tHit sum energy distribution\n",
      "  KEY: TH2D\th_SynRadAna_EEMC_nHit;1\tHit sum\n",
      "  KEY: TH2D\th_SynRadAna_EEMC_photonEnergy;1\tHit source photon\n",
      "  KEY: TH2D\th_SynRadAna_EEMC_sumEdep;1\tHit sum energy distribution\n",
      "  KEY: TH2D\th_SynRadAna_EGEM_0_nHit;1\tHit sum\n",
      "  KEY: TH2D\th_SynRadAna_EGEM_0_photonEnergy;1\tHit source photon\n",
      "  KEY: TH2D\th_SynRadAna_EGEM_0_sumEdep;1\tHit sum energy distribution\n",
      "  KEY: TH2D\th_SynRadAna_EGEM_1_nHit;1\tHit sum\n",
      "  KEY: TH2D\th_SynRadAna_EGEM_1_photonEnergy;1\tHit source photon\n",
      "  KEY: TH2D\th_SynRadAna_EGEM_1_sumEdep;1\tHit sum energy distribution\n",
      "  KEY: TH2D\th_SynRadAna_EGEM_2_nHit;1\tHit sum\n",
      "  KEY: TH2D\th_SynRadAna_EGEM_2_photonEnergy;1\tHit source photon\n",
      "  KEY: TH2D\th_SynRadAna_EGEM_2_sumEdep;1\tHit sum energy distribution\n",
      "  KEY: TH2D\th_SynRadAna_EGEM_3_nHit;1\tHit sum\n",
      "  KEY: TH2D\th_SynRadAna_EGEM_3_photonEnergy;1\tHit source photon\n",
      "  KEY: TH2D\th_SynRadAna_EGEM_3_sumEdep;1\tHit sum energy distribution\n",
      "  KEY: TH2D\th_SynRadAna_FEMC_nHit;1\tHit sum\n",
      "  KEY: TH2D\th_SynRadAna_FEMC_photonEnergy;1\tHit source photon\n",
      "  KEY: TH2D\th_SynRadAna_FEMC_sumEdep;1\tHit sum energy distribution\n",
      "  KEY: TH2D\th_SynRadAna_FGEM_2_nHit;1\tHit sum\n",
      "  KEY: TH2D\th_SynRadAna_FGEM_2_photonEnergy;1\tHit source photon\n",
      "  KEY: TH2D\th_SynRadAna_FGEM_2_sumEdep;1\tHit sum energy distribution\n",
      "  KEY: TH2D\th_SynRadAna_FGEM_3_nHit;1\tHit sum\n",
      "  KEY: TH2D\th_SynRadAna_FGEM_3_photonEnergy;1\tHit source photon\n",
      "  KEY: TH2D\th_SynRadAna_FGEM_3_sumEdep;1\tHit sum energy distribution\n",
      "  KEY: TH2D\th_SynRadAna_FGEM_4_nHit;1\tHit sum\n",
      "  KEY: TH2D\th_SynRadAna_FGEM_4_photonEnergy;1\tHit source photon\n",
      "  KEY: TH2D\th_SynRadAna_FGEM_4_sumEdep;1\tHit sum energy distribution\n",
      "  KEY: TH2D\th_SynRadAna_FHCAL_nHit;1\tHit sum\n",
      "  KEY: TH2D\th_SynRadAna_FHCAL_photonEnergy;1\tHit source photon\n",
      "  KEY: TH2D\th_SynRadAna_FHCAL_sumEdep;1\tHit sum energy distribution\n",
      "  KEY: TH2D\th_SynRadAna_FST_0_nHit;1\tHit sum\n",
      "  KEY: TH2D\th_SynRadAna_FST_0_photonEnergy;1\tHit source photon\n",
      "  KEY: TH2D\th_SynRadAna_FST_0_sumEdep;1\tHit sum energy distribution\n",
      "  KEY: TH2D\th_SynRadAna_FST_1_nHit;1\tHit sum\n",
      "  KEY: TH2D\th_SynRadAna_FST_1_photonEnergy;1\tHit source photon\n",
      "  KEY: TH2D\th_SynRadAna_FST_1_sumEdep;1\tHit sum energy distribution\n",
      "  KEY: TH2D\th_SynRadAna_FST_2_nHit;1\tHit sum\n",
      "  KEY: TH2D\th_SynRadAna_FST_2_photonEnergy;1\tHit source photon\n",
      "  KEY: TH2D\th_SynRadAna_FST_2_sumEdep;1\tHit sum energy distribution\n",
      "  KEY: TH2D\th_SynRadAna_FST_3_nHit;1\tHit sum\n",
      "  KEY: TH2D\th_SynRadAna_FST_3_photonEnergy;1\tHit source photon\n",
      "  KEY: TH2D\th_SynRadAna_FST_3_sumEdep;1\tHit sum energy distribution\n",
      "  KEY: TH2D\th_SynRadAna_FST_4_nHit;1\tHit sum\n",
      "  KEY: TH2D\th_SynRadAna_FST_4_photonEnergy;1\tHit source photon\n",
      "  KEY: TH2D\th_SynRadAna_FST_4_sumEdep;1\tHit sum energy distribution\n",
      "  KEY: TH2D\th_SynRadAna_HCALIN_nHit;1\tHit sum\n",
      "  KEY: TH2D\th_SynRadAna_HCALIN_photonEnergy;1\tHit source photon\n",
      "  KEY: TH2D\th_SynRadAna_HCALIN_sumEdep;1\tHit sum energy distribution\n",
      "  KEY: TH2D\th_SynRadAna_HCALOUT_nHit;1\tHit sum\n",
      "  KEY: TH2D\th_SynRadAna_HCALOUT_photonEnergy;1\tHit source photon\n",
      "  KEY: TH2D\th_SynRadAna_HCALOUT_sumEdep;1\tHit sum energy distribution\n",
      "  KEY: TH2D\th_SynRadAna_MVTXHit_nHit;1\tHit sum\n",
      "  KEY: TH2D\th_SynRadAna_MVTXHit_nHit_Layer;1\tHit sum\n",
      "  KEY: TH2D\th_SynRadAna_MVTX_nHit;1\tHit sum\n",
      "  KEY: TH2D\th_SynRadAna_MVTX_photonEnergy;1\tHit source photon\n",
      "  KEY: TH2D\th_SynRadAna_MVTX_sumEdep;1\tHit sum energy distribution\n",
      "  KEY: TH1D\th_SynRadAna_Normalization;1\th_SynRadAna_ Normalization\n",
      "  KEY: TH2D\th_SynRadAna_PIPE_nHit;1\tHit sum\n",
      "  KEY: TH2D\th_SynRadAna_PIPE_photonEnergy;1\tHit source photon\n",
      "  KEY: TH2D\th_SynRadAna_PIPE_sumEdep;1\tHit sum energy distribution\n",
      "  KEY: TH2D\th_SynRadAna_SVTX_nHit;1\tHit sum\n",
      "  KEY: TH2D\th_SynRadAna_SVTX_photonEnergy;1\tHit source photon\n",
      "  KEY: TH2D\th_SynRadAna_SVTX_sumEdep;1\tHit sum energy distribution\n",
      "  KEY: TH2D\th_SynRadAna_photonEnergy;1\tSource photon\n"
     ]
    }
   ],
   "source": [
    "root_file.ls()"
   ]
  },
  {
   "cell_type": "code",
   "execution_count": null,
   "metadata": {},
   "outputs": [],
   "source": []
  }
 ],
 "metadata": {
  "kernelspec": {
   "display_name": "Python (sPHENIX)",
   "language": "python",
   "name": "sphenix-env"
  },
  "language_info": {
   "codemirror_mode": {
    "name": "ipython",
    "version": 3
   },
   "file_extension": ".py",
   "mimetype": "text/x-python",
   "name": "python",
   "nbconvert_exporter": "python",
   "pygments_lexer": "ipython3",
   "version": "3.8.0"
  }
 },
 "nbformat": 4,
 "nbformat_minor": 4
}

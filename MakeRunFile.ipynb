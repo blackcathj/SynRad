{
 "cells": [
  {
   "cell_type": "code",
   "execution_count": 1,
   "metadata": {},
   "outputs": [],
   "source": [
    "import pandas as pd\n",
    "import os\n",
    "import matplotlib.pyplot as plt\n",
    "import matplotlib.colors\n",
    "import numpy as np\n",
    "import glob\n",
    "import shutil\n"
   ]
  },
  {
   "cell_type": "code",
   "execution_count": 2,
   "metadata": {},
   "outputs": [],
   "source": [
    "nRerun = 300;\n",
    "bReverseXZ = False;\n",
    "MaxEventPerRun = 150000;\n",
    "\n",
    "# srcDataset = 'May12SynradExport'\n",
    "# RunName = 'production-2'\n",
    "\n",
    "# srcDataset = 'May-5-Take2'\n",
    "# RunName = 'production-1-take2'\n",
    "\n",
    "# srcDataset = './Corrected-Beam-Parameter/Full beam and magnets'\n",
    "# RunName = 'production-3-full-beam-full-magnet'\n",
    "\n",
    "# srcDataset = './Corrected-Beam-Parameter/tails only all magnets'\n",
    "# RunName = 'production-3-tail-full-magnet'\n",
    "\n",
    "# srcDataset = './Corrected-Beam-Parameter/Full beam and magnets'\n",
    "# RunName = 'production-4-full-beam-full-magnet'\n",
    "\n",
    "# srcDataset = './Corrected-Beam-Parameter/tails only all magnets'\n",
    "# RunName = 'production-4-tail-full-magnet'\n",
    "\n",
    "# srcDataset = './Corrected-Beam-Parameter/Full beam and magnets'\n",
    "# RunName = 'production-5-full-beam-full-magnet'\n",
    "\n",
    "# srcDataset = './Corrected-Beam-Parameter/tails only all magnets'\n",
    "# RunName = 'production-5-tail-full-magnet'\n",
    "\n",
    "# srcDataset = 'May2020Lattice/CharlieGeometry'\n",
    "# RunName = 'production-6-CharlieGeometry'\n",
    "\n",
    "#srcDataset = 'May2020Lattice/UpdatedGeometryPumps'\n",
    "# RunName = 'production-6-UpdatedGeometryPumps'\n",
    "\n",
    "# srcDataset = 'May2020Lattice/CharlieGeometry'\n",
    "# RunName = 'production-7-2um-CharlieGeometry'\n",
    "\n",
    "# nRerun = 100;\n",
    "# srcDataset = 'July2020Chamber/24JulyFirstRun'\n",
    "# RunName = 'production-8-24JulyFirstRun'\n",
    "nRerun = 500;\n",
    "srcDataset = 'July2020Chamber/24JulyFirstRun'\n",
    "RunName = 'production-8-Au2um-24JulyFirstRun'\n"
   ]
  },
  {
   "cell_type": "code",
   "execution_count": 3,
   "metadata": {},
   "outputs": [],
   "source": [
    "abspath = os. getcwd();\n",
    "\n",
    "if not os.path.exists(RunName):\n",
    "    os.makedirs(RunName)\n",
    "    \n",
    "listfile = os.path.join(abspath, RunName, \"list\")"
   ]
  },
  {
   "cell_type": "code",
   "execution_count": 4,
   "metadata": {},
   "outputs": [
    {
     "data": {
      "text/plain": [
       "'/gpfs/mnt/gpfs02/sphenix/user/jinhuang/SynRad/production-8-Au2um-24JulyFirstRun/Flux per facet.xlsx'"
      ]
     },
     "execution_count": 4,
     "metadata": {},
     "output_type": "execute_result"
    }
   ],
   "source": [
    "shutil.copyfile(os.path.join(srcDataset, 'Flux per facet.xlsx'), \n",
    "                os.path.join(abspath, RunName, 'Flux per facet.xlsx'))"
   ]
  },
  {
   "cell_type": "code",
   "execution_count": 5,
   "metadata": {},
   "outputs": [
    {
     "data": {
      "text/plain": [
       "'/gpfs/mnt/gpfs02/sphenix/user/jinhuang/SynRad/production-8-Au2um-24JulyFirstRun/Facet_CheckAll.csv'"
      ]
     },
     "execution_count": 5,
     "metadata": {},
     "output_type": "execute_result"
    }
   ],
   "source": [
    "shutil.copyfile(os.path.join(srcDataset, 'Facet_CheckAll.csv'), \n",
    "                os.path.join(abspath, RunName, 'Facet_CheckAll.csv'))"
   ]
  },
  {
   "cell_type": "code",
   "execution_count": 6,
   "metadata": {},
   "outputs": [
    {
     "name": "stdout",
     "output_type": "stream",
     "text": [
      "['July2020Chamber/24JulyFirstRun/./14868.csv', 'July2020Chamber/24JulyFirstRun/./14869.csv', 'July2020Chamber/24JulyFirstRun/./14870.csv', 'July2020Chamber/24JulyFirstRun/./14871.csv', 'July2020Chamber/24JulyFirstRun/./14872.csv', 'July2020Chamber/24JulyFirstRun/./14886.csv', 'July2020Chamber/24JulyFirstRun/./14887.csv', 'July2020Chamber/24JulyFirstRun/./14888.csv', 'July2020Chamber/24JulyFirstRun/./14889.csv', 'July2020Chamber/24JulyFirstRun/./14890.csv', 'July2020Chamber/24JulyFirstRun/./14891.csv', 'July2020Chamber/24JulyFirstRun/./14892.csv', 'July2020Chamber/24JulyFirstRun/./14893.csv', 'July2020Chamber/24JulyFirstRun/./14901.csv', 'July2020Chamber/24JulyFirstRun/./14902.csv', 'July2020Chamber/24JulyFirstRun/./14903.csv', 'July2020Chamber/24JulyFirstRun/./14881.csv', 'July2020Chamber/24JulyFirstRun/./14882.csv', 'July2020Chamber/24JulyFirstRun/./14883.csv', 'July2020Chamber/24JulyFirstRun/./14884.csv', 'July2020Chamber/24JulyFirstRun/./14885.csv']\n"
     ]
    }
   ],
   "source": [
    "filenames = glob.glob(os.path.join(srcDataset, \"./[0-9][0-9][0-9][0-9][0-9].csv\"))\n",
    "print(filenames)"
   ]
  },
  {
   "cell_type": "code",
   "execution_count": 7,
   "metadata": {},
   "outputs": [],
   "source": [
    "# Direct copy. Disabled\n",
    "\n",
    "# f = open(listfile, \"w\")\n",
    "\n",
    "# cnt = 0;\n",
    "# for filename in filenames:\n",
    "#     cnt = cnt +1\n",
    "    \n",
    "#     filename_base = os.path.basename(filename)\n",
    "#     facet_id = int(filename_base.split('.')[0]);\n",
    "    \n",
    "#     print(f'{cnt}: {filename} -> {facet_id}...')\n",
    "    \n",
    "#     for run in range(0, nRerun):\n",
    "#         destFile =  os.path.join(abspath, RunName, f'{facet_id}.{run}.csv')\n",
    "        \n",
    "#         shutil.copyfile(filename, destFile)\n",
    "#         f.write(destFile)\n",
    "#         f.write('\\n')\n",
    "\n",
    "# f.close()\n",
    "    "
   ]
  },
  {
   "cell_type": "code",
   "execution_count": 8,
   "metadata": {},
   "outputs": [
    {
     "name": "stdout",
     "output_type": "stream",
     "text": [
      "1: July2020Chamber/24JulyFirstRun/./14868.csv -> facet 14868, 100001 virtual photon lines...\n",
      "   334 output files 150000 photons each for 500 reruns. Last file: /gpfs/mnt/gpfs02/sphenix/user/jinhuang/SynRad/production-8-Au2um-24JulyFirstRun/14868.0334.csv\n",
      "2: July2020Chamber/24JulyFirstRun/./14869.csv -> facet 14869, 100001 virtual photon lines...\n",
      "   334 output files 150000 photons each for 500 reruns. Last file: /gpfs/mnt/gpfs02/sphenix/user/jinhuang/SynRad/production-8-Au2um-24JulyFirstRun/14869.0334.csv\n",
      "3: July2020Chamber/24JulyFirstRun/./14870.csv -> facet 14870, 100001 virtual photon lines...\n",
      "   334 output files 150000 photons each for 500 reruns. Last file: /gpfs/mnt/gpfs02/sphenix/user/jinhuang/SynRad/production-8-Au2um-24JulyFirstRun/14870.0334.csv\n",
      "4: July2020Chamber/24JulyFirstRun/./14871.csv -> facet 14871, 100001 virtual photon lines...\n",
      "   334 output files 150000 photons each for 500 reruns. Last file: /gpfs/mnt/gpfs02/sphenix/user/jinhuang/SynRad/production-8-Au2um-24JulyFirstRun/14871.0334.csv\n",
      "5: July2020Chamber/24JulyFirstRun/./14872.csv -> facet 14872, 100001 virtual photon lines...\n",
      "   334 output files 150000 photons each for 500 reruns. Last file: /gpfs/mnt/gpfs02/sphenix/user/jinhuang/SynRad/production-8-Au2um-24JulyFirstRun/14872.0334.csv\n",
      "6: July2020Chamber/24JulyFirstRun/./14886.csv -> facet 14886, 100001 virtual photon lines...\n",
      "   334 output files 150000 photons each for 500 reruns. Last file: /gpfs/mnt/gpfs02/sphenix/user/jinhuang/SynRad/production-8-Au2um-24JulyFirstRun/14886.0334.csv\n",
      "7: July2020Chamber/24JulyFirstRun/./14887.csv -> facet 14887, 100001 virtual photon lines...\n",
      "   334 output files 150000 photons each for 500 reruns. Last file: /gpfs/mnt/gpfs02/sphenix/user/jinhuang/SynRad/production-8-Au2um-24JulyFirstRun/14887.0334.csv\n",
      "8: July2020Chamber/24JulyFirstRun/./14888.csv -> facet 14888, 100001 virtual photon lines...\n",
      "   334 output files 150000 photons each for 500 reruns. Last file: /gpfs/mnt/gpfs02/sphenix/user/jinhuang/SynRad/production-8-Au2um-24JulyFirstRun/14888.0334.csv\n",
      "9: July2020Chamber/24JulyFirstRun/./14889.csv -> facet 14889, 100001 virtual photon lines...\n",
      "   334 output files 150000 photons each for 500 reruns. Last file: /gpfs/mnt/gpfs02/sphenix/user/jinhuang/SynRad/production-8-Au2um-24JulyFirstRun/14889.0334.csv\n",
      "10: July2020Chamber/24JulyFirstRun/./14890.csv -> facet 14890, 100001 virtual photon lines...\n",
      "   334 output files 150000 photons each for 500 reruns. Last file: /gpfs/mnt/gpfs02/sphenix/user/jinhuang/SynRad/production-8-Au2um-24JulyFirstRun/14890.0334.csv\n",
      "11: July2020Chamber/24JulyFirstRun/./14891.csv -> facet 14891, 100001 virtual photon lines...\n",
      "   334 output files 150000 photons each for 500 reruns. Last file: /gpfs/mnt/gpfs02/sphenix/user/jinhuang/SynRad/production-8-Au2um-24JulyFirstRun/14891.0334.csv\n",
      "12: July2020Chamber/24JulyFirstRun/./14892.csv -> facet 14892, 100001 virtual photon lines...\n",
      "   334 output files 150000 photons each for 500 reruns. Last file: /gpfs/mnt/gpfs02/sphenix/user/jinhuang/SynRad/production-8-Au2um-24JulyFirstRun/14892.0334.csv\n",
      "13: July2020Chamber/24JulyFirstRun/./14893.csv -> facet 14893, 100001 virtual photon lines...\n",
      "   334 output files 150000 photons each for 500 reruns. Last file: /gpfs/mnt/gpfs02/sphenix/user/jinhuang/SynRad/production-8-Au2um-24JulyFirstRun/14893.0334.csv\n",
      "14: July2020Chamber/24JulyFirstRun/./14901.csv -> facet 14901, 100001 virtual photon lines...\n",
      "   334 output files 150000 photons each for 500 reruns. Last file: /gpfs/mnt/gpfs02/sphenix/user/jinhuang/SynRad/production-8-Au2um-24JulyFirstRun/14901.0334.csv\n",
      "15: July2020Chamber/24JulyFirstRun/./14902.csv -> facet 14902, 100001 virtual photon lines...\n",
      "   334 output files 150000 photons each for 500 reruns. Last file: /gpfs/mnt/gpfs02/sphenix/user/jinhuang/SynRad/production-8-Au2um-24JulyFirstRun/14902.0334.csv\n",
      "16: July2020Chamber/24JulyFirstRun/./14903.csv -> facet 14903, 100001 virtual photon lines...\n",
      "   334 output files 150000 photons each for 500 reruns. Last file: /gpfs/mnt/gpfs02/sphenix/user/jinhuang/SynRad/production-8-Au2um-24JulyFirstRun/14903.0334.csv\n",
      "17: July2020Chamber/24JulyFirstRun/./14881.csv -> facet 14881, 100001 virtual photon lines...\n",
      "   334 output files 150000 photons each for 500 reruns. Last file: /gpfs/mnt/gpfs02/sphenix/user/jinhuang/SynRad/production-8-Au2um-24JulyFirstRun/14881.0334.csv\n",
      "18: July2020Chamber/24JulyFirstRun/./14882.csv -> facet 14882, 100001 virtual photon lines...\n",
      "   334 output files 150000 photons each for 500 reruns. Last file: /gpfs/mnt/gpfs02/sphenix/user/jinhuang/SynRad/production-8-Au2um-24JulyFirstRun/14882.0334.csv\n",
      "19: July2020Chamber/24JulyFirstRun/./14883.csv -> facet 14883, 100001 virtual photon lines...\n",
      "   334 output files 150000 photons each for 500 reruns. Last file: /gpfs/mnt/gpfs02/sphenix/user/jinhuang/SynRad/production-8-Au2um-24JulyFirstRun/14883.0334.csv\n",
      "20: July2020Chamber/24JulyFirstRun/./14884.csv -> facet 14884, 100001 virtual photon lines...\n",
      "   334 output files 150000 photons each for 500 reruns. Last file: /gpfs/mnt/gpfs02/sphenix/user/jinhuang/SynRad/production-8-Au2um-24JulyFirstRun/14884.0334.csv\n",
      "21: July2020Chamber/24JulyFirstRun/./14885.csv -> facet 14885, 100001 virtual photon lines...\n",
      "   334 output files 150000 photons each for 500 reruns. Last file: /gpfs/mnt/gpfs02/sphenix/user/jinhuang/SynRad/production-8-Au2um-24JulyFirstRun/14885.0334.csv\n"
     ]
    }
   ],
   "source": [
    "f = open(listfile, \"w\")\n",
    "\n",
    "cnt = 0;\n",
    "for filename in filenames:\n",
    "    cnt = cnt +1\n",
    "    \n",
    "    filename_base = os.path.basename(filename)\n",
    "    facet_id = int(filename_base.split('.')[0]);\n",
    "    \n",
    "    text_file = open(filename, \"r\")\n",
    "    lines = text_file.readlines()\n",
    "    nLines = len(lines);\n",
    "    text_file.close()\n",
    "    \n",
    "    print(f'{cnt}: {filename} -> facet {facet_id}, {len(lines)} virtual photon lines...')\n",
    "    \n",
    "    \n",
    "    iRerun = 0;\n",
    "    virtual_photonindex = 1; \n",
    "    file_index = 1;\n",
    "    file_open = False; \n",
    "    file_photon_cnt = 0;\n",
    "    \n",
    "    \n",
    "    while True:\n",
    "        \n",
    "        if (not file_open):\n",
    "            destFile =  os.path.join(abspath, RunName, f'{facet_id}.{file_index:04d}.csv')\n",
    "            data_file = open(destFile, \"w\")\n",
    "            data_file.write(lines[0])\n",
    "            file_open = True;\n",
    "            file_photon_cnt = 0;\n",
    "            \n",
    "            f.write(destFile)\n",
    "            f.write('\\n')\n",
    "            \n",
    "            continue;\n",
    "        \n",
    "        if (file_photon_cnt>=MaxEventPerRun):\n",
    "            data_file.close();\n",
    "            file_open = False;\n",
    "             \n",
    "            if (iRerun>=nRerun):\n",
    "                break;\n",
    "                \n",
    "            file_index = file_index+1;\n",
    "            continue;\n",
    "            \n",
    "        if (virtual_photonindex>= nLines):\n",
    "            virtual_photonindex = 1;\n",
    "            iRerun = iRerun + 1;\n",
    "            continue;\n",
    "            \n",
    "        data_file.write(lines[virtual_photonindex])\n",
    "        virtual_photonindex = virtual_photonindex + 1;       \n",
    "        file_photon_cnt = file_photon_cnt + 1;\n",
    "        \n",
    "    print(f'   {file_index} output files {MaxEventPerRun} photons each for {iRerun} reruns. Last file: {destFile}')\n",
    "        \n",
    "f.close()"
   ]
  },
  {
   "cell_type": "code",
   "execution_count": 9,
   "metadata": {},
   "outputs": [
    {
     "data": {
      "text/plain": [
       "'/gpfs/mnt/gpfs02/sphenix/user/jinhuang/SynRad/production-8-Au2um-24JulyFirstRun/list'"
      ]
     },
     "execution_count": 9,
     "metadata": {},
     "output_type": "execute_result"
    }
   ],
   "source": [
    "listfile"
   ]
  },
  {
   "cell_type": "code",
   "execution_count": 10,
   "metadata": {},
   "outputs": [
    {
     "name": "stdout",
     "output_type": "stream",
     "text": [
      "7014 /gpfs/mnt/gpfs02/sphenix/user/jinhuang/SynRad/production-8-Au2um-24JulyFirstRun/list\n",
      "\n"
     ]
    }
   ],
   "source": [
    "print(os.popen(f'wc -l {listfile}').read())"
   ]
  },
  {
   "cell_type": "code",
   "execution_count": 11,
   "metadata": {},
   "outputs": [
    {
     "data": {
      "text/plain": [
       "'Pos_X_[cm],Pos_Y_[cm],Pos_Z_[cm],Pos_u,Pos_v,Dir_X,Dir_Y,Dir_Z,Dir_theta_[rad],Dir_phi_[rad],LowFluxRatio,Energy_[eV],Flux_[photon/s],Power_[W],\\n'"
      ]
     },
     "execution_count": 11,
     "metadata": {},
     "output_type": "execute_result"
    }
   ],
   "source": [
    "lines[0]"
   ]
  },
  {
   "cell_type": "code",
   "execution_count": null,
   "metadata": {},
   "outputs": [],
   "source": []
  }
 ],
 "metadata": {
  "kernelspec": {
   "display_name": "Python (sPHENIX)",
   "language": "python",
   "name": "sphenix-env"
  },
  "language_info": {
   "codemirror_mode": {
    "name": "ipython",
    "version": 3
   },
   "file_extension": ".py",
   "mimetype": "text/x-python",
   "name": "python",
   "nbconvert_exporter": "python",
   "pygments_lexer": "ipython3",
   "version": "3.8.0"
  }
 },
 "nbformat": 4,
 "nbformat_minor": 4
}

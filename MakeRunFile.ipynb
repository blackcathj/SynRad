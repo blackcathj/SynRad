{
 "cells": [
  {
   "cell_type": "code",
   "execution_count": 1,
   "metadata": {},
   "outputs": [],
   "source": [
    "import pandas as pd\n",
    "import os\n",
    "import matplotlib.pyplot as plt\n",
    "import matplotlib.colors\n",
    "import numpy as np\n",
    "import glob\n",
    "import shutil\n"
   ]
  },
  {
   "cell_type": "code",
   "execution_count": 2,
   "metadata": {},
   "outputs": [],
   "source": [
    "nRerun = 10;\n",
    "# srcDataset = 'May12SynradExport'\n",
    "# RunName = 'production-2'\n",
    "\n",
    "# srcDataset = 'May-5-Take2'\n",
    "# RunName = 'production-1-take2'\n",
    "\n",
    "srcDataset = './Corrected-Beam-Parameter/Full beam and magnets'\n",
    "RunName = 'production-3-full-beam-full-magnet'\n",
    "\n",
    "# srcDataset = './Corrected-Beam-Parameter/tails only all magnets'\n",
    "# RunName = 'production-3-tail-full-magnet'\n"
   ]
  },
  {
   "cell_type": "code",
   "execution_count": 3,
   "metadata": {},
   "outputs": [],
   "source": [
    "abspath = os. getcwd();\n",
    "\n",
    "if not os.path.exists(RunName):\n",
    "    os.makedirs(RunName)\n",
    "    \n",
    "listfile = os.path.join(abspath, RunName, \"list\")"
   ]
  },
  {
   "cell_type": "code",
   "execution_count": 5,
   "metadata": {},
   "outputs": [],
   "source": [
    "shutil.copyfile(os.path.join(srcDataset, 'Flux per facet.xlsx'), \n",
    "                os.path.join(abspath, RunName, 'Flux per facet.xlsx'))"
   ]
  },
  {
   "cell_type": "code",
   "execution_count": 5,
   "metadata": {},
   "outputs": [
    {
     "data": {
      "text/plain": [
       "'/gpfs/mnt/gpfs02/sphenix/user/jinhuang/SynRad/production-3-full-beam-full-magnet/Facet_CheckAll.csv'"
      ]
     },
     "execution_count": 5,
     "metadata": {},
     "output_type": "execute_result"
    }
   ],
   "source": [
    "shutil.copyfile(os.path.join(srcDataset, 'Facet_CheckAll.csv'), \n",
    "                os.path.join(abspath, RunName, 'Facet_CheckAll.csv'))"
   ]
  },
  {
   "cell_type": "code",
   "execution_count": 5,
   "metadata": {},
   "outputs": [
    {
     "name": "stdout",
     "output_type": "stream",
     "text": [
      "['./Corrected-Beam-Parameter/tails only all magnets/./18964.csv', './Corrected-Beam-Parameter/tails only all magnets/./18965.csv', './Corrected-Beam-Parameter/tails only all magnets/./18966.csv', './Corrected-Beam-Parameter/tails only all magnets/./18967.csv', './Corrected-Beam-Parameter/tails only all magnets/./18968.csv', './Corrected-Beam-Parameter/tails only all magnets/./18983.csv', './Corrected-Beam-Parameter/tails only all magnets/./18984.csv', './Corrected-Beam-Parameter/tails only all magnets/./18985.csv', './Corrected-Beam-Parameter/tails only all magnets/./18986.csv', './Corrected-Beam-Parameter/tails only all magnets/./18969.csv', './Corrected-Beam-Parameter/tails only all magnets/./18987.csv', './Corrected-Beam-Parameter/tails only all magnets/./18982.csv']\n"
     ]
    }
   ],
   "source": [
    "filenames = glob.glob(os.path.join(srcDataset, \"./[0-9][0-9][0-9][0-9][0-9].csv\"))\n",
    "print(filenames)"
   ]
  },
  {
   "cell_type": "code",
   "execution_count": 6,
   "metadata": {},
   "outputs": [
    {
     "name": "stdout",
     "output_type": "stream",
     "text": [
      "1: ./Corrected-Beam-Parameter/tails only all magnets/./18964.csv -> 18964...\n",
      "2: ./Corrected-Beam-Parameter/tails only all magnets/./18965.csv -> 18965...\n",
      "3: ./Corrected-Beam-Parameter/tails only all magnets/./18966.csv -> 18966...\n",
      "4: ./Corrected-Beam-Parameter/tails only all magnets/./18967.csv -> 18967...\n",
      "5: ./Corrected-Beam-Parameter/tails only all magnets/./18968.csv -> 18968...\n",
      "6: ./Corrected-Beam-Parameter/tails only all magnets/./18983.csv -> 18983...\n",
      "7: ./Corrected-Beam-Parameter/tails only all magnets/./18984.csv -> 18984...\n",
      "8: ./Corrected-Beam-Parameter/tails only all magnets/./18985.csv -> 18985...\n",
      "9: ./Corrected-Beam-Parameter/tails only all magnets/./18986.csv -> 18986...\n",
      "10: ./Corrected-Beam-Parameter/tails only all magnets/./18969.csv -> 18969...\n",
      "11: ./Corrected-Beam-Parameter/tails only all magnets/./18987.csv -> 18987...\n",
      "12: ./Corrected-Beam-Parameter/tails only all magnets/./18982.csv -> 18982...\n"
     ]
    }
   ],
   "source": [
    "f = open(listfile, \"w\")\n",
    "\n",
    "cnt = 0;\n",
    "for filename in filenames:\n",
    "    cnt = cnt +1\n",
    "    \n",
    "    filename_base = os.path.basename(filename)\n",
    "    facet_id = int(filename_base.split('.')[0]);\n",
    "    \n",
    "    print(f'{cnt}: {filename} -> {facet_id}...')\n",
    "    \n",
    "    for run in range(0, nRerun):\n",
    "        destFile =  os.path.join(abspath, RunName, f'{facet_id}.{run}.csv')\n",
    "        \n",
    "        shutil.copyfile(filename, destFile)\n",
    "        f.write(destFile)\n",
    "        f.write('\\n')\n",
    "\n",
    "f.close()\n",
    "    "
   ]
  },
  {
   "cell_type": "code",
   "execution_count": 7,
   "metadata": {},
   "outputs": [
    {
     "data": {
      "text/plain": [
       "'/gpfs/mnt/gpfs02/sphenix/user/jinhuang/SynRad/production-3-tail-full-magnet/list'"
      ]
     },
     "execution_count": 7,
     "metadata": {},
     "output_type": "execute_result"
    }
   ],
   "source": [
    "listfile"
   ]
  },
  {
   "cell_type": "code",
   "execution_count": 8,
   "metadata": {},
   "outputs": [
    {
     "name": "stdout",
     "output_type": "stream",
     "text": [
      "120 /gpfs/mnt/gpfs02/sphenix/user/jinhuang/SynRad/production-3-tail-full-magnet/list\n",
      "\n"
     ]
    }
   ],
   "source": [
    "print(os.popen(f'wc -l {listfile}').read())\n"
   ]
  }
 ],
 "metadata": {
  "kernelspec": {
   "display_name": "Python (sPHENIX)",
   "language": "python",
   "name": "sphenix-env"
  },
  "language_info": {
   "codemirror_mode": {
    "name": "ipython",
    "version": 3
   },
   "file_extension": ".py",
   "mimetype": "text/x-python",
   "name": "python",
   "nbconvert_exporter": "python",
   "pygments_lexer": "ipython3",
   "version": "3.8.0"
  }
 },
 "nbformat": 4,
 "nbformat_minor": 4
}

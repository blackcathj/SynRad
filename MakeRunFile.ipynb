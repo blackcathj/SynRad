{
 "cells": [
  {
   "cell_type": "code",
   "execution_count": 1,
   "metadata": {},
   "outputs": [],
   "source": [
    "import pandas as pd\n",
    "import os\n",
    "import matplotlib.pyplot as plt\n",
    "import matplotlib.colors\n",
    "import numpy as np\n",
    "import glob\n",
    "import shutil\n"
   ]
  },
  {
   "cell_type": "code",
   "execution_count": 2,
   "metadata": {},
   "outputs": [],
   "source": [
    "nRerun = 10;\n",
    "# srcDataset = 'May12SynradExport'\n",
    "# RunName = 'production-2'\n",
    "srcDataset = 'May-5-Take2'\n",
    "RunName = 'production-1-take2'"
   ]
  },
  {
   "cell_type": "code",
   "execution_count": 3,
   "metadata": {},
   "outputs": [],
   "source": [
    "abspath = os. getcwd();\n",
    "\n",
    "if not os.path.exists(RunName):\n",
    "    os.makedirs(RunName)\n",
    "    \n",
    "listfile = os.path.join(abspath, RunName, \"list\")"
   ]
  },
  {
   "cell_type": "code",
   "execution_count": 4,
   "metadata": {},
   "outputs": [
    {
     "name": "stdout",
     "output_type": "stream",
     "text": [
      "['May-5-Take2/./18952.csv', 'May-5-Take2/./18953.csv', 'May-5-Take2/./18954.csv', 'May-5-Take2/./18955.csv', 'May-5-Take2/./18956.csv', 'May-5-Take2/./18957.csv', 'May-5-Take2/./18958.csv', 'May-5-Take2/./18959.csv', 'May-5-Take2/./18960.csv', 'May-5-Take2/./18961.csv', 'May-5-Take2/./18962.csv', 'May-5-Take2/./18963.csv', 'May-5-Take2/./18964.csv', 'May-5-Take2/./18965.csv', 'May-5-Take2/./18966.csv', 'May-5-Take2/./18967.csv', 'May-5-Take2/./18968.csv', 'May-5-Take2/./18969.csv', 'May-5-Take2/./18970.csv', 'May-5-Take2/./18971.csv', 'May-5-Take2/./18972.csv', 'May-5-Take2/./18973.csv', 'May-5-Take2/./18974.csv', 'May-5-Take2/./18975.csv', 'May-5-Take2/./18976.csv', 'May-5-Take2/./18977.csv', 'May-5-Take2/./18978.csv', 'May-5-Take2/./18979.csv', 'May-5-Take2/./18980.csv', 'May-5-Take2/./18981.csv', 'May-5-Take2/./18982.csv', 'May-5-Take2/./18983.csv', 'May-5-Take2/./18984.csv', 'May-5-Take2/./18985.csv', 'May-5-Take2/./18986.csv', 'May-5-Take2/./18987.csv']\n"
     ]
    }
   ],
   "source": [
    "filenames = glob.glob(os.path.join(srcDataset, \"./[0-9][0-9][0-9][0-9][0-9].csv\"))\n",
    "print(filenames)"
   ]
  },
  {
   "cell_type": "code",
   "execution_count": 5,
   "metadata": {},
   "outputs": [
    {
     "name": "stdout",
     "output_type": "stream",
     "text": [
      "1: May-5-Take2/./18952.csv -> 18952...\n",
      "2: May-5-Take2/./18953.csv -> 18953...\n",
      "3: May-5-Take2/./18954.csv -> 18954...\n",
      "4: May-5-Take2/./18955.csv -> 18955...\n",
      "5: May-5-Take2/./18956.csv -> 18956...\n",
      "6: May-5-Take2/./18957.csv -> 18957...\n",
      "7: May-5-Take2/./18958.csv -> 18958...\n",
      "8: May-5-Take2/./18959.csv -> 18959...\n",
      "9: May-5-Take2/./18960.csv -> 18960...\n",
      "10: May-5-Take2/./18961.csv -> 18961...\n",
      "11: May-5-Take2/./18962.csv -> 18962...\n",
      "12: May-5-Take2/./18963.csv -> 18963...\n",
      "13: May-5-Take2/./18964.csv -> 18964...\n",
      "14: May-5-Take2/./18965.csv -> 18965...\n",
      "15: May-5-Take2/./18966.csv -> 18966...\n",
      "16: May-5-Take2/./18967.csv -> 18967...\n",
      "17: May-5-Take2/./18968.csv -> 18968...\n",
      "18: May-5-Take2/./18969.csv -> 18969...\n",
      "19: May-5-Take2/./18970.csv -> 18970...\n",
      "20: May-5-Take2/./18971.csv -> 18971...\n",
      "21: May-5-Take2/./18972.csv -> 18972...\n",
      "22: May-5-Take2/./18973.csv -> 18973...\n",
      "23: May-5-Take2/./18974.csv -> 18974...\n",
      "24: May-5-Take2/./18975.csv -> 18975...\n",
      "25: May-5-Take2/./18976.csv -> 18976...\n",
      "26: May-5-Take2/./18977.csv -> 18977...\n",
      "27: May-5-Take2/./18978.csv -> 18978...\n",
      "28: May-5-Take2/./18979.csv -> 18979...\n",
      "29: May-5-Take2/./18980.csv -> 18980...\n",
      "30: May-5-Take2/./18981.csv -> 18981...\n",
      "31: May-5-Take2/./18982.csv -> 18982...\n",
      "32: May-5-Take2/./18983.csv -> 18983...\n",
      "33: May-5-Take2/./18984.csv -> 18984...\n",
      "34: May-5-Take2/./18985.csv -> 18985...\n",
      "35: May-5-Take2/./18986.csv -> 18986...\n",
      "36: May-5-Take2/./18987.csv -> 18987...\n"
     ]
    }
   ],
   "source": [
    "f = open(listfile, \"w\")\n",
    "\n",
    "cnt = 0;\n",
    "for filename in filenames:\n",
    "    cnt = cnt +1\n",
    "    \n",
    "    filename_base = os.path.basename(filename)\n",
    "    facet_id = int(filename_base.split('.')[0]);\n",
    "    \n",
    "    print(f'{cnt}: {filename} -> {facet_id}...')\n",
    "    \n",
    "    for run in range(0, nRerun):\n",
    "        destFile =  os.path.join(abspath, RunName, f'{facet_id}.{run}.csv')\n",
    "        \n",
    "        shutil.copyfile(filename, destFile)\n",
    "        f.write(destFile)\n",
    "        f.write('\\n')\n",
    "\n",
    "f.close()\n",
    "    "
   ]
  },
  {
   "cell_type": "code",
   "execution_count": 6,
   "metadata": {},
   "outputs": [
    {
     "data": {
      "text/plain": [
       "'/gpfs/mnt/gpfs02/sphenix/user/jinhuang/SynRad/production-1-take2/list'"
      ]
     },
     "execution_count": 6,
     "metadata": {},
     "output_type": "execute_result"
    }
   ],
   "source": [
    "listfile"
   ]
  },
  {
   "cell_type": "code",
   "execution_count": 7,
   "metadata": {},
   "outputs": [
    {
     "name": "stdout",
     "output_type": "stream",
     "text": [
      "360 /gpfs/mnt/gpfs02/sphenix/user/jinhuang/SynRad/production-1-take2/list\n",
      "\n"
     ]
    }
   ],
   "source": [
    "print(os.popen(f'wc -l {listfile}').read())\n"
   ]
  }
 ],
 "metadata": {
  "kernelspec": {
   "display_name": "Python (sPHENIX)",
   "language": "python",
   "name": "sphenix-env"
  },
  "language_info": {
   "codemirror_mode": {
    "name": "ipython",
    "version": 3
   },
   "file_extension": ".py",
   "mimetype": "text/x-python",
   "name": "python",
   "nbconvert_exporter": "python",
   "pygments_lexer": "ipython3",
   "version": "3.8.0"
  }
 },
 "nbformat": 4,
 "nbformat_minor": 4
}

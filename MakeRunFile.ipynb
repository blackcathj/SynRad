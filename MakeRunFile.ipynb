{
 "cells": [
  {
   "cell_type": "code",
   "execution_count": 1,
   "metadata": {},
   "outputs": [],
   "source": [
    "import pandas as pd\n",
    "import os\n",
    "import matplotlib.pyplot as plt\n",
    "import matplotlib.colors\n",
    "import numpy as np\n",
    "import glob\n",
    "import shutil\n"
   ]
  },
  {
   "cell_type": "code",
   "execution_count": 2,
   "metadata": {},
   "outputs": [],
   "source": [
    "nRerun = 25;\n",
    "MaxEventPerRun = 50000;\n",
    "\n",
    "# srcDataset = 'May12SynradExport'\n",
    "# RunName = 'production-2'\n",
    "\n",
    "# srcDataset = 'May-5-Take2'\n",
    "# RunName = 'production-1-take2'\n",
    "\n",
    "# srcDataset = './Corrected-Beam-Parameter/Full beam and magnets'\n",
    "# RunName = 'production-3-full-beam-full-magnet'\n",
    "\n",
    "# srcDataset = './Corrected-Beam-Parameter/tails only all magnets'\n",
    "# RunName = 'production-3-tail-full-magnet'\n",
    "\n",
    "# srcDataset = './Corrected-Beam-Parameter/Full beam and magnets'\n",
    "# RunName = 'production-4-full-beam-full-magnet'\n",
    "\n",
    "# srcDataset = './Corrected-Beam-Parameter/tails only all magnets'\n",
    "# RunName = 'production-4-tail-full-magnet'\n",
    "\n",
    "# srcDataset = './Corrected-Beam-Parameter/Full beam and magnets'\n",
    "# RunName = 'production-5-full-beam-full-magnet'\n",
    "\n",
    "# srcDataset = './Corrected-Beam-Parameter/tails only all magnets'\n",
    "# RunName = 'production-5-tail-full-magnet'\n",
    "\n",
    "# srcDataset = 'May2020Lattice/CharlieGeometry'\n",
    "# RunName = 'production-6-CharlieGeometry'\n",
    "\n",
    "srcDataset = 'May2020Lattice/UpdatedGeometryPumps'\n",
    "RunName = 'production-6-UpdatedGeometryPumps'\n"
   ]
  },
  {
   "cell_type": "code",
   "execution_count": 3,
   "metadata": {},
   "outputs": [],
   "source": [
    "abspath = os. getcwd();\n",
    "\n",
    "if not os.path.exists(RunName):\n",
    "    os.makedirs(RunName)\n",
    "    \n",
    "listfile = os.path.join(abspath, RunName, \"list\")"
   ]
  },
  {
   "cell_type": "code",
   "execution_count": 4,
   "metadata": {},
   "outputs": [
    {
     "data": {
      "text/plain": [
       "'/gpfs/mnt/gpfs02/sphenix/user/jinhuang/SynRad/production-6-UpdatedGeometryPumps/Flux per facet.xlsx'"
      ]
     },
     "execution_count": 4,
     "metadata": {},
     "output_type": "execute_result"
    }
   ],
   "source": [
    "shutil.copyfile(os.path.join(srcDataset, 'Flux per facet.xlsx'), \n",
    "                os.path.join(abspath, RunName, 'Flux per facet.xlsx'))"
   ]
  },
  {
   "cell_type": "code",
   "execution_count": 5,
   "metadata": {},
   "outputs": [
    {
     "data": {
      "text/plain": [
       "'/gpfs/mnt/gpfs02/sphenix/user/jinhuang/SynRad/production-6-UpdatedGeometryPumps/Facet_CheckAll.csv'"
      ]
     },
     "execution_count": 5,
     "metadata": {},
     "output_type": "execute_result"
    }
   ],
   "source": [
    "shutil.copyfile(os.path.join(srcDataset, 'Facet_CheckAll.csv'), \n",
    "                os.path.join(abspath, RunName, 'Facet_CheckAll.csv'))"
   ]
  },
  {
   "cell_type": "code",
   "execution_count": 6,
   "metadata": {},
   "outputs": [
    {
     "name": "stdout",
     "output_type": "stream",
     "text": [
      "['May2020Lattice/UpdatedGeometryPumps/./11200.csv', 'May2020Lattice/UpdatedGeometryPumps/./11201.csv', 'May2020Lattice/UpdatedGeometryPumps/./11202.csv', 'May2020Lattice/UpdatedGeometryPumps/./11203.csv', 'May2020Lattice/UpdatedGeometryPumps/./11217.csv', 'May2020Lattice/UpdatedGeometryPumps/./11218.csv', 'May2020Lattice/UpdatedGeometryPumps/./11219.csv', 'May2020Lattice/UpdatedGeometryPumps/./11220.csv', 'May2020Lattice/UpdatedGeometryPumps/./11221.csv', 'May2020Lattice/UpdatedGeometryPumps/./11222.csv']\n"
     ]
    }
   ],
   "source": [
    "filenames = glob.glob(os.path.join(srcDataset, \"./[0-9][0-9][0-9][0-9][0-9].csv\"))\n",
    "print(filenames)"
   ]
  },
  {
   "cell_type": "code",
   "execution_count": 7,
   "metadata": {},
   "outputs": [],
   "source": [
    "# Direct copy. Disabled\n",
    "\n",
    "# f = open(listfile, \"w\")\n",
    "\n",
    "# cnt = 0;\n",
    "# for filename in filenames:\n",
    "#     cnt = cnt +1\n",
    "    \n",
    "#     filename_base = os.path.basename(filename)\n",
    "#     facet_id = int(filename_base.split('.')[0]);\n",
    "    \n",
    "#     print(f'{cnt}: {filename} -> {facet_id}...')\n",
    "    \n",
    "#     for run in range(0, nRerun):\n",
    "#         destFile =  os.path.join(abspath, RunName, f'{facet_id}.{run}.csv')\n",
    "        \n",
    "#         shutil.copyfile(filename, destFile)\n",
    "#         f.write(destFile)\n",
    "#         f.write('\\n')\n",
    "\n",
    "# f.close()\n",
    "    "
   ]
  },
  {
   "cell_type": "code",
   "execution_count": 8,
   "metadata": {},
   "outputs": [
    {
     "name": "stdout",
     "output_type": "stream",
     "text": [
      "1: May2020Lattice/UpdatedGeometryPumps/./11200.csv -> facet 11200, 1000001 virtual photon lines...\n",
      "   501 output files 50000 photons each for 25 reruns. Last file: /gpfs/mnt/gpfs02/sphenix/user/jinhuang/SynRad/production-6-UpdatedGeometryPumps/11200.0501.csv\n",
      "2: May2020Lattice/UpdatedGeometryPumps/./11201.csv -> facet 11201, 1000001 virtual photon lines...\n",
      "   501 output files 50000 photons each for 25 reruns. Last file: /gpfs/mnt/gpfs02/sphenix/user/jinhuang/SynRad/production-6-UpdatedGeometryPumps/11201.0501.csv\n",
      "3: May2020Lattice/UpdatedGeometryPumps/./11202.csv -> facet 11202, 1000001 virtual photon lines...\n",
      "   501 output files 50000 photons each for 25 reruns. Last file: /gpfs/mnt/gpfs02/sphenix/user/jinhuang/SynRad/production-6-UpdatedGeometryPumps/11202.0501.csv\n",
      "4: May2020Lattice/UpdatedGeometryPumps/./11203.csv -> facet 11203, 1000001 virtual photon lines...\n",
      "   501 output files 50000 photons each for 25 reruns. Last file: /gpfs/mnt/gpfs02/sphenix/user/jinhuang/SynRad/production-6-UpdatedGeometryPumps/11203.0501.csv\n",
      "5: May2020Lattice/UpdatedGeometryPumps/./11217.csv -> facet 11217, 1000001 virtual photon lines...\n",
      "   501 output files 50000 photons each for 25 reruns. Last file: /gpfs/mnt/gpfs02/sphenix/user/jinhuang/SynRad/production-6-UpdatedGeometryPumps/11217.0501.csv\n",
      "6: May2020Lattice/UpdatedGeometryPumps/./11218.csv -> facet 11218, 1000001 virtual photon lines...\n",
      "   501 output files 50000 photons each for 25 reruns. Last file: /gpfs/mnt/gpfs02/sphenix/user/jinhuang/SynRad/production-6-UpdatedGeometryPumps/11218.0501.csv\n",
      "7: May2020Lattice/UpdatedGeometryPumps/./11219.csv -> facet 11219, 1000001 virtual photon lines...\n",
      "   501 output files 50000 photons each for 25 reruns. Last file: /gpfs/mnt/gpfs02/sphenix/user/jinhuang/SynRad/production-6-UpdatedGeometryPumps/11219.0501.csv\n",
      "8: May2020Lattice/UpdatedGeometryPumps/./11220.csv -> facet 11220, 1000001 virtual photon lines...\n",
      "   501 output files 50000 photons each for 25 reruns. Last file: /gpfs/mnt/gpfs02/sphenix/user/jinhuang/SynRad/production-6-UpdatedGeometryPumps/11220.0501.csv\n",
      "9: May2020Lattice/UpdatedGeometryPumps/./11221.csv -> facet 11221, 1000001 virtual photon lines...\n",
      "   501 output files 50000 photons each for 25 reruns. Last file: /gpfs/mnt/gpfs02/sphenix/user/jinhuang/SynRad/production-6-UpdatedGeometryPumps/11221.0501.csv\n",
      "10: May2020Lattice/UpdatedGeometryPumps/./11222.csv -> facet 11222, 1000001 virtual photon lines...\n",
      "   501 output files 50000 photons each for 25 reruns. Last file: /gpfs/mnt/gpfs02/sphenix/user/jinhuang/SynRad/production-6-UpdatedGeometryPumps/11222.0501.csv\n"
     ]
    }
   ],
   "source": [
    "f = open(listfile, \"w\")\n",
    "\n",
    "cnt = 0;\n",
    "for filename in filenames:\n",
    "    cnt = cnt +1\n",
    "    \n",
    "    filename_base = os.path.basename(filename)\n",
    "    facet_id = int(filename_base.split('.')[0]);\n",
    "    \n",
    "    text_file = open(filename, \"r\")\n",
    "    lines = text_file.readlines()\n",
    "    nLines = len(lines);\n",
    "    text_file.close()\n",
    "    \n",
    "    print(f'{cnt}: {filename} -> facet {facet_id}, {len(lines)} virtual photon lines...')\n",
    "    \n",
    "    \n",
    "    iRerun = 0;\n",
    "    virtual_photonindex = 1; \n",
    "    file_index = 1;\n",
    "    file_open = False; \n",
    "    file_photon_cnt = 0;\n",
    "    \n",
    "    \n",
    "    while True:\n",
    "        \n",
    "        if (not file_open):\n",
    "            destFile =  os.path.join(abspath, RunName, f'{facet_id}.{file_index:04d}.csv')\n",
    "            data_file = open(destFile, \"w\")\n",
    "            data_file.write(lines[0])\n",
    "            file_open = True;\n",
    "            file_photon_cnt = 0;\n",
    "            \n",
    "            f.write(destFile)\n",
    "            f.write('\\n')\n",
    "            \n",
    "            continue;\n",
    "        \n",
    "        if (file_photon_cnt>=MaxEventPerRun):\n",
    "            data_file.close();\n",
    "            file_open = False;\n",
    "             \n",
    "            if (iRerun>=nRerun):\n",
    "                break;\n",
    "                \n",
    "            file_index = file_index+1;\n",
    "            continue;\n",
    "            \n",
    "        if (virtual_photonindex>= nLines):\n",
    "            virtual_photonindex = 1;\n",
    "            iRerun = iRerun + 1;\n",
    "            continue;\n",
    "            \n",
    "        data_file.write(lines[virtual_photonindex])\n",
    "        virtual_photonindex = virtual_photonindex + 1;       \n",
    "        file_photon_cnt = file_photon_cnt + 1;\n",
    "        \n",
    "    print(f'   {file_index} output files {MaxEventPerRun} photons each for {iRerun} reruns. Last file: {destFile}')\n",
    "        \n",
    "f.close()"
   ]
  },
  {
   "cell_type": "code",
   "execution_count": 9,
   "metadata": {},
   "outputs": [
    {
     "data": {
      "text/plain": [
       "'/gpfs/mnt/gpfs02/sphenix/user/jinhuang/SynRad/production-6-UpdatedGeometryPumps/list'"
      ]
     },
     "execution_count": 9,
     "metadata": {},
     "output_type": "execute_result"
    }
   ],
   "source": [
    "listfile"
   ]
  },
  {
   "cell_type": "code",
   "execution_count": 10,
   "metadata": {},
   "outputs": [
    {
     "name": "stdout",
     "output_type": "stream",
     "text": [
      "5010 /gpfs/mnt/gpfs02/sphenix/user/jinhuang/SynRad/production-6-UpdatedGeometryPumps/list\n",
      "\n"
     ]
    }
   ],
   "source": [
    "print(os.popen(f'wc -l {listfile}').read())"
   ]
  },
  {
   "cell_type": "code",
   "execution_count": 11,
   "metadata": {},
   "outputs": [
    {
     "data": {
      "text/plain": [
       "'Pos_X_[cm],Pos_Y_[cm],Pos_Z_[cm],Pos_u,Pos_v,Dir_X,Dir_Y,Dir_Z,Dir_theta_[rad],Dir_phi_[rad],LowFluxRatio,Energy_[eV],Flux_[photon/s],Power_[W],\\n'"
      ]
     },
     "execution_count": 11,
     "metadata": {},
     "output_type": "execute_result"
    }
   ],
   "source": [
    "lines[0]"
   ]
  },
  {
   "cell_type": "code",
   "execution_count": null,
   "metadata": {},
   "outputs": [],
   "source": []
  }
 ],
 "metadata": {
  "kernelspec": {
   "display_name": "Python (sPHENIX)",
   "language": "python",
   "name": "sphenix-env"
  },
  "language_info": {
   "codemirror_mode": {
    "name": "ipython",
    "version": 3
   },
   "file_extension": ".py",
   "mimetype": "text/x-python",
   "name": "python",
   "nbconvert_exporter": "python",
   "pygments_lexer": "ipython3",
   "version": "3.8.0"
  }
 },
 "nbformat": 4,
 "nbformat_minor": 4
}
